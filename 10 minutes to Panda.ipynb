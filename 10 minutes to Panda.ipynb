{
 "cells": [
  {
   "cell_type": "code",
   "execution_count": 1,
   "metadata": {},
   "outputs": [
    {
     "data": {
      "text/html": [
       "<div>\n",
       "<style scoped>\n",
       "    .dataframe tbody tr th:only-of-type {\n",
       "        vertical-align: middle;\n",
       "    }\n",
       "\n",
       "    .dataframe tbody tr th {\n",
       "        vertical-align: top;\n",
       "    }\n",
       "\n",
       "    .dataframe thead th {\n",
       "        text-align: right;\n",
       "    }\n",
       "</style>\n",
       "<table border=\"1\" class=\"dataframe\">\n",
       "  <thead>\n",
       "    <tr style=\"text-align: right;\">\n",
       "      <th></th>\n",
       "      <th>Name</th>\n",
       "    </tr>\n",
       "  </thead>\n",
       "  <tbody>\n",
       "    <tr>\n",
       "      <th>0</th>\n",
       "      <td>a</td>\n",
       "    </tr>\n",
       "    <tr>\n",
       "      <th>1</th>\n",
       "      <td>b</td>\n",
       "    </tr>\n",
       "    <tr>\n",
       "      <th>2</th>\n",
       "      <td>c</td>\n",
       "    </tr>\n",
       "    <tr>\n",
       "      <th>3</th>\n",
       "      <td>d</td>\n",
       "    </tr>\n",
       "    <tr>\n",
       "      <th>4</th>\n",
       "      <td>f</td>\n",
       "    </tr>\n",
       "  </tbody>\n",
       "</table>\n",
       "</div>"
      ],
      "text/plain": [
       "  Name\n",
       "0    a\n",
       "1    b\n",
       "2    c\n",
       "3    d\n",
       "4    f"
      ]
     },
     "execution_count": 1,
     "metadata": {},
     "output_type": "execute_result"
    }
   ],
   "source": [
    "import pandas as pd\n",
    "data = pd.DataFrame({\"Name\" : [\"a\",\"b\",\"c\",\"d\",\"f\"]})\n",
    "data"
   ]
  },
  {
   "cell_type": "code",
   "execution_count": 2,
   "metadata": {},
   "outputs": [
    {
     "data": {
      "text/plain": [
       "Name    a\n",
       "Name: 0, dtype: object"
      ]
     },
     "execution_count": 2,
     "metadata": {},
     "output_type": "execute_result"
    }
   ],
   "source": [
    "data.iloc[0]"
   ]
  },
  {
   "cell_type": "code",
   "execution_count": 3,
   "metadata": {},
   "outputs": [
    {
     "data": {
      "text/plain": [
       "Name    a\n",
       "Name: 0, dtype: object"
      ]
     },
     "execution_count": 3,
     "metadata": {},
     "output_type": "execute_result"
    }
   ],
   "source": [
    "data.loc[0]"
   ]
  },
  {
   "cell_type": "code",
   "execution_count": 8,
   "metadata": {},
   "outputs": [
    {
     "data": {
      "text/plain": [
       "Name    object\n",
       "dtype: object"
      ]
     },
     "execution_count": 8,
     "metadata": {},
     "output_type": "execute_result"
    }
   ],
   "source": [
    "data.dtypes"
   ]
  },
  {
   "cell_type": "markdown",
   "metadata": {},
   "source": [
    "# 10 min to Pandas excise starts here"
   ]
  },
  {
   "cell_type": "code",
   "execution_count": 9,
   "metadata": {},
   "outputs": [],
   "source": [
    "import numpy as np\n",
    "import pandas as pd"
   ]
  },
  {
   "cell_type": "code",
   "execution_count": 10,
   "metadata": {},
   "outputs": [
    {
     "data": {
      "text/plain": [
       "0     1.0\n",
       "1     2.0\n",
       "2     3.0\n",
       "3     NaN\n",
       "4    10.0\n",
       "5     6.0\n",
       "dtype: float64"
      ]
     },
     "execution_count": 10,
     "metadata": {},
     "output_type": "execute_result"
    }
   ],
   "source": [
    "s = pd.Series([1,2,3,np.nan,10,6])\n",
    "s"
   ]
  },
  {
   "cell_type": "code",
   "execution_count": 11,
   "metadata": {},
   "outputs": [
    {
     "data": {
      "text/plain": [
       "DatetimeIndex(['2020-02-06', '2020-02-07', '2020-02-08', '2020-02-09',\n",
       "               '2020-02-10', '2020-02-11'],\n",
       "              dtype='datetime64[ns]', freq='D')"
      ]
     },
     "execution_count": 11,
     "metadata": {},
     "output_type": "execute_result"
    }
   ],
   "source": [
    "dates = pd.date_range(start='20200206', periods=6)\n",
    "dates"
   ]
  },
  {
   "cell_type": "code",
   "execution_count": 12,
   "metadata": {},
   "outputs": [
    {
     "data": {
      "text/html": [
       "<div>\n",
       "<style scoped>\n",
       "    .dataframe tbody tr th:only-of-type {\n",
       "        vertical-align: middle;\n",
       "    }\n",
       "\n",
       "    .dataframe tbody tr th {\n",
       "        vertical-align: top;\n",
       "    }\n",
       "\n",
       "    .dataframe thead th {\n",
       "        text-align: right;\n",
       "    }\n",
       "</style>\n",
       "<table border=\"1\" class=\"dataframe\">\n",
       "  <thead>\n",
       "    <tr style=\"text-align: right;\">\n",
       "      <th></th>\n",
       "      <th>A</th>\n",
       "      <th>B</th>\n",
       "      <th>C</th>\n",
       "      <th>D</th>\n",
       "    </tr>\n",
       "  </thead>\n",
       "  <tbody>\n",
       "    <tr>\n",
       "      <th>2020-02-06</th>\n",
       "      <td>-0.499077</td>\n",
       "      <td>-0.387091</td>\n",
       "      <td>-0.172582</td>\n",
       "      <td>1.457392</td>\n",
       "    </tr>\n",
       "    <tr>\n",
       "      <th>2020-02-07</th>\n",
       "      <td>-1.696032</td>\n",
       "      <td>0.428707</td>\n",
       "      <td>-2.086388</td>\n",
       "      <td>1.265555</td>\n",
       "    </tr>\n",
       "    <tr>\n",
       "      <th>2020-02-08</th>\n",
       "      <td>0.062527</td>\n",
       "      <td>-0.750839</td>\n",
       "      <td>-1.636388</td>\n",
       "      <td>0.251421</td>\n",
       "    </tr>\n",
       "    <tr>\n",
       "      <th>2020-02-09</th>\n",
       "      <td>0.005588</td>\n",
       "      <td>-2.938119</td>\n",
       "      <td>0.369765</td>\n",
       "      <td>0.293339</td>\n",
       "    </tr>\n",
       "    <tr>\n",
       "      <th>2020-02-10</th>\n",
       "      <td>-2.048418</td>\n",
       "      <td>1.131347</td>\n",
       "      <td>0.092944</td>\n",
       "      <td>-0.337887</td>\n",
       "    </tr>\n",
       "    <tr>\n",
       "      <th>2020-02-11</th>\n",
       "      <td>-0.092641</td>\n",
       "      <td>1.311619</td>\n",
       "      <td>2.390918</td>\n",
       "      <td>0.262432</td>\n",
       "    </tr>\n",
       "  </tbody>\n",
       "</table>\n",
       "</div>"
      ],
      "text/plain": [
       "                   A         B         C         D\n",
       "2020-02-06 -0.499077 -0.387091 -0.172582  1.457392\n",
       "2020-02-07 -1.696032  0.428707 -2.086388  1.265555\n",
       "2020-02-08  0.062527 -0.750839 -1.636388  0.251421\n",
       "2020-02-09  0.005588 -2.938119  0.369765  0.293339\n",
       "2020-02-10 -2.048418  1.131347  0.092944 -0.337887\n",
       "2020-02-11 -0.092641  1.311619  2.390918  0.262432"
      ]
     },
     "execution_count": 12,
     "metadata": {},
     "output_type": "execute_result"
    }
   ],
   "source": [
    "df = pd.DataFrame(np.random.randn(6,4), index = dates,columns=list('ABCD'))\n",
    "df"
   ]
  },
  {
   "cell_type": "code",
   "execution_count": 13,
   "metadata": {},
   "outputs": [
    {
     "data": {
      "text/html": [
       "<div>\n",
       "<style scoped>\n",
       "    .dataframe tbody tr th:only-of-type {\n",
       "        vertical-align: middle;\n",
       "    }\n",
       "\n",
       "    .dataframe tbody tr th {\n",
       "        vertical-align: top;\n",
       "    }\n",
       "\n",
       "    .dataframe thead th {\n",
       "        text-align: right;\n",
       "    }\n",
       "</style>\n",
       "<table border=\"1\" class=\"dataframe\">\n",
       "  <thead>\n",
       "    <tr style=\"text-align: right;\">\n",
       "      <th></th>\n",
       "      <th>A</th>\n",
       "      <th>B</th>\n",
       "      <th>C</th>\n",
       "      <th>D</th>\n",
       "      <th>E</th>\n",
       "      <th>F</th>\n",
       "    </tr>\n",
       "  </thead>\n",
       "  <tbody>\n",
       "    <tr>\n",
       "      <th>0</th>\n",
       "      <td>1</td>\n",
       "      <td>2020-02-06</td>\n",
       "      <td>1.0</td>\n",
       "      <td>3</td>\n",
       "      <td>test</td>\n",
       "      <td>Foo</td>\n",
       "    </tr>\n",
       "    <tr>\n",
       "      <th>1</th>\n",
       "      <td>1</td>\n",
       "      <td>2020-02-06</td>\n",
       "      <td>1.0</td>\n",
       "      <td>3</td>\n",
       "      <td>train</td>\n",
       "      <td>Foo</td>\n",
       "    </tr>\n",
       "    <tr>\n",
       "      <th>2</th>\n",
       "      <td>1</td>\n",
       "      <td>2020-02-06</td>\n",
       "      <td>1.0</td>\n",
       "      <td>3</td>\n",
       "      <td>train</td>\n",
       "      <td>Foo</td>\n",
       "    </tr>\n",
       "    <tr>\n",
       "      <th>3</th>\n",
       "      <td>1</td>\n",
       "      <td>2020-02-06</td>\n",
       "      <td>1.0</td>\n",
       "      <td>3</td>\n",
       "      <td>test</td>\n",
       "      <td>Foo</td>\n",
       "    </tr>\n",
       "  </tbody>\n",
       "</table>\n",
       "</div>"
      ],
      "text/plain": [
       "   A          B    C  D      E    F\n",
       "0  1 2020-02-06  1.0  3   test  Foo\n",
       "1  1 2020-02-06  1.0  3  train  Foo\n",
       "2  1 2020-02-06  1.0  3  train  Foo\n",
       "3  1 2020-02-06  1.0  3   test  Foo"
      ]
     },
     "execution_count": 13,
     "metadata": {},
     "output_type": "execute_result"
    }
   ],
   "source": [
    "df2 = pd.DataFrame({\n",
    "                    'A': 1,  \n",
    "                    'B': pd.Timestamp('2020-02-06'),\n",
    "                    'C': pd.Series(1,index=list(range(4)),dtype='float32'),\n",
    "                    'D': np.array([3]*4,dtype='int32'),\n",
    "                    'E': pd.Categorical([\"test\",\"train\",\"train\",\"test\"]),\n",
    "                    'F' : 'Foo'\n",
    "                    } \n",
    "                   , index=(0,1,2,3))\n",
    "df2"
   ]
  },
  {
   "cell_type": "code",
   "execution_count": 14,
   "metadata": {},
   "outputs": [
    {
     "data": {
      "text/plain": [
       "A             int64\n",
       "B    datetime64[ns]\n",
       "C           float32\n",
       "D             int32\n",
       "E          category\n",
       "F            object\n",
       "dtype: object"
      ]
     },
     "execution_count": 14,
     "metadata": {},
     "output_type": "execute_result"
    }
   ],
   "source": [
    "df2.dtypes\n"
   ]
  },
  {
   "cell_type": "code",
   "execution_count": 15,
   "metadata": {},
   "outputs": [
    {
     "data": {
      "text/plain": [
       "<bound method NDFrame.bool of    A          B    C  D      E    F\n",
       "0  1 2020-02-06  1.0  3   test  Foo\n",
       "1  1 2020-02-06  1.0  3  train  Foo\n",
       "2  1 2020-02-06  1.0  3  train  Foo\n",
       "3  1 2020-02-06  1.0  3   test  Foo>"
      ]
     },
     "execution_count": 15,
     "metadata": {},
     "output_type": "execute_result"
    }
   ],
   "source": [
    "df2.bool"
   ]
  },
  {
   "cell_type": "code",
   "execution_count": 16,
   "metadata": {},
   "outputs": [
    {
     "data": {
      "text/html": [
       "<div>\n",
       "<style scoped>\n",
       "    .dataframe tbody tr th:only-of-type {\n",
       "        vertical-align: middle;\n",
       "    }\n",
       "\n",
       "    .dataframe tbody tr th {\n",
       "        vertical-align: top;\n",
       "    }\n",
       "\n",
       "    .dataframe thead th {\n",
       "        text-align: right;\n",
       "    }\n",
       "</style>\n",
       "<table border=\"1\" class=\"dataframe\">\n",
       "  <thead>\n",
       "    <tr style=\"text-align: right;\">\n",
       "      <th></th>\n",
       "      <th>A</th>\n",
       "      <th>B</th>\n",
       "      <th>C</th>\n",
       "      <th>D</th>\n",
       "    </tr>\n",
       "  </thead>\n",
       "  <tbody>\n",
       "    <tr>\n",
       "      <th>2020-02-06</th>\n",
       "      <td>-0.499077</td>\n",
       "      <td>-0.387091</td>\n",
       "      <td>-0.172582</td>\n",
       "      <td>1.457392</td>\n",
       "    </tr>\n",
       "    <tr>\n",
       "      <th>2020-02-07</th>\n",
       "      <td>-1.696032</td>\n",
       "      <td>0.428707</td>\n",
       "      <td>-2.086388</td>\n",
       "      <td>1.265555</td>\n",
       "    </tr>\n",
       "    <tr>\n",
       "      <th>2020-02-08</th>\n",
       "      <td>0.062527</td>\n",
       "      <td>-0.750839</td>\n",
       "      <td>-1.636388</td>\n",
       "      <td>0.251421</td>\n",
       "    </tr>\n",
       "    <tr>\n",
       "      <th>2020-02-09</th>\n",
       "      <td>0.005588</td>\n",
       "      <td>-2.938119</td>\n",
       "      <td>0.369765</td>\n",
       "      <td>0.293339</td>\n",
       "    </tr>\n",
       "    <tr>\n",
       "      <th>2020-02-10</th>\n",
       "      <td>-2.048418</td>\n",
       "      <td>1.131347</td>\n",
       "      <td>0.092944</td>\n",
       "      <td>-0.337887</td>\n",
       "    </tr>\n",
       "    <tr>\n",
       "      <th>2020-02-11</th>\n",
       "      <td>-0.092641</td>\n",
       "      <td>1.311619</td>\n",
       "      <td>2.390918</td>\n",
       "      <td>0.262432</td>\n",
       "    </tr>\n",
       "  </tbody>\n",
       "</table>\n",
       "</div>"
      ],
      "text/plain": [
       "                   A         B         C         D\n",
       "2020-02-06 -0.499077 -0.387091 -0.172582  1.457392\n",
       "2020-02-07 -1.696032  0.428707 -2.086388  1.265555\n",
       "2020-02-08  0.062527 -0.750839 -1.636388  0.251421\n",
       "2020-02-09  0.005588 -2.938119  0.369765  0.293339\n",
       "2020-02-10 -2.048418  1.131347  0.092944 -0.337887\n",
       "2020-02-11 -0.092641  1.311619  2.390918  0.262432"
      ]
     },
     "execution_count": 16,
     "metadata": {},
     "output_type": "execute_result"
    }
   ],
   "source": [
    "df"
   ]
  },
  {
   "cell_type": "code",
   "execution_count": 19,
   "metadata": {},
   "outputs": [
    {
     "data": {
      "text/plain": [
       "array([[-0.49907689, -0.38709129, -0.17258196,  1.45739234],\n",
       "       [-1.69603187,  0.42870706, -2.08638776,  1.26555477],\n",
       "       [ 0.06252703, -0.75083914, -1.63638836,  0.25142077],\n",
       "       [ 0.00558809, -2.93811905,  0.36976516,  0.29333945],\n",
       "       [-2.04841797,  1.13134683,  0.09294448, -0.33788706],\n",
       "       [-0.09264093,  1.31161862,  2.3909179 ,  0.26243196]])"
      ]
     },
     "execution_count": 19,
     "metadata": {},
     "output_type": "execute_result"
    }
   ],
   "source": [
    "df.to_numpy()\n",
    "##Serious will now be in array"
   ]
  },
  {
   "cell_type": "code",
   "execution_count": 20,
   "metadata": {},
   "outputs": [
    {
     "data": {
      "text/html": [
       "<div>\n",
       "<style scoped>\n",
       "    .dataframe tbody tr th:only-of-type {\n",
       "        vertical-align: middle;\n",
       "    }\n",
       "\n",
       "    .dataframe tbody tr th {\n",
       "        vertical-align: top;\n",
       "    }\n",
       "\n",
       "    .dataframe thead th {\n",
       "        text-align: right;\n",
       "    }\n",
       "</style>\n",
       "<table border=\"1\" class=\"dataframe\">\n",
       "  <thead>\n",
       "    <tr style=\"text-align: right;\">\n",
       "      <th></th>\n",
       "      <th>A</th>\n",
       "      <th>B</th>\n",
       "      <th>C</th>\n",
       "      <th>D</th>\n",
       "    </tr>\n",
       "  </thead>\n",
       "  <tbody>\n",
       "    <tr>\n",
       "      <th>count</th>\n",
       "      <td>6.000000</td>\n",
       "      <td>6.000000</td>\n",
       "      <td>6.000000</td>\n",
       "      <td>6.000000</td>\n",
       "    </tr>\n",
       "    <tr>\n",
       "      <th>mean</th>\n",
       "      <td>-0.711342</td>\n",
       "      <td>-0.200729</td>\n",
       "      <td>-0.173622</td>\n",
       "      <td>0.532042</td>\n",
       "    </tr>\n",
       "    <tr>\n",
       "      <th>std</th>\n",
       "      <td>0.927156</td>\n",
       "      <td>1.567703</td>\n",
       "      <td>1.596343</td>\n",
       "      <td>0.686951</td>\n",
       "    </tr>\n",
       "    <tr>\n",
       "      <th>min</th>\n",
       "      <td>-2.048418</td>\n",
       "      <td>-2.938119</td>\n",
       "      <td>-2.086388</td>\n",
       "      <td>-0.337887</td>\n",
       "    </tr>\n",
       "    <tr>\n",
       "      <th>25%</th>\n",
       "      <td>-1.396793</td>\n",
       "      <td>-0.659902</td>\n",
       "      <td>-1.270437</td>\n",
       "      <td>0.254174</td>\n",
       "    </tr>\n",
       "    <tr>\n",
       "      <th>50%</th>\n",
       "      <td>-0.295859</td>\n",
       "      <td>0.020808</td>\n",
       "      <td>-0.039819</td>\n",
       "      <td>0.277886</td>\n",
       "    </tr>\n",
       "    <tr>\n",
       "      <th>75%</th>\n",
       "      <td>-0.018969</td>\n",
       "      <td>0.955687</td>\n",
       "      <td>0.300560</td>\n",
       "      <td>1.022501</td>\n",
       "    </tr>\n",
       "    <tr>\n",
       "      <th>max</th>\n",
       "      <td>0.062527</td>\n",
       "      <td>1.311619</td>\n",
       "      <td>2.390918</td>\n",
       "      <td>1.457392</td>\n",
       "    </tr>\n",
       "  </tbody>\n",
       "</table>\n",
       "</div>"
      ],
      "text/plain": [
       "              A         B         C         D\n",
       "count  6.000000  6.000000  6.000000  6.000000\n",
       "mean  -0.711342 -0.200729 -0.173622  0.532042\n",
       "std    0.927156  1.567703  1.596343  0.686951\n",
       "min   -2.048418 -2.938119 -2.086388 -0.337887\n",
       "25%   -1.396793 -0.659902 -1.270437  0.254174\n",
       "50%   -0.295859  0.020808 -0.039819  0.277886\n",
       "75%   -0.018969  0.955687  0.300560  1.022501\n",
       "max    0.062527  1.311619  2.390918  1.457392"
      ]
     },
     "execution_count": 20,
     "metadata": {},
     "output_type": "execute_result"
    }
   ],
   "source": [
    "df.describe()"
   ]
  },
  {
   "cell_type": "code",
   "execution_count": 21,
   "metadata": {},
   "outputs": [
    {
     "data": {
      "text/html": [
       "<div>\n",
       "<style scoped>\n",
       "    .dataframe tbody tr th:only-of-type {\n",
       "        vertical-align: middle;\n",
       "    }\n",
       "\n",
       "    .dataframe tbody tr th {\n",
       "        vertical-align: top;\n",
       "    }\n",
       "\n",
       "    .dataframe thead th {\n",
       "        text-align: right;\n",
       "    }\n",
       "</style>\n",
       "<table border=\"1\" class=\"dataframe\">\n",
       "  <thead>\n",
       "    <tr style=\"text-align: right;\">\n",
       "      <th></th>\n",
       "      <th>2020-02-06</th>\n",
       "      <th>2020-02-07</th>\n",
       "      <th>2020-02-08</th>\n",
       "      <th>2020-02-09</th>\n",
       "      <th>2020-02-10</th>\n",
       "      <th>2020-02-11</th>\n",
       "    </tr>\n",
       "  </thead>\n",
       "  <tbody>\n",
       "    <tr>\n",
       "      <th>A</th>\n",
       "      <td>-0.499077</td>\n",
       "      <td>-1.696032</td>\n",
       "      <td>0.062527</td>\n",
       "      <td>0.005588</td>\n",
       "      <td>-2.048418</td>\n",
       "      <td>-0.092641</td>\n",
       "    </tr>\n",
       "    <tr>\n",
       "      <th>B</th>\n",
       "      <td>-0.387091</td>\n",
       "      <td>0.428707</td>\n",
       "      <td>-0.750839</td>\n",
       "      <td>-2.938119</td>\n",
       "      <td>1.131347</td>\n",
       "      <td>1.311619</td>\n",
       "    </tr>\n",
       "    <tr>\n",
       "      <th>C</th>\n",
       "      <td>-0.172582</td>\n",
       "      <td>-2.086388</td>\n",
       "      <td>-1.636388</td>\n",
       "      <td>0.369765</td>\n",
       "      <td>0.092944</td>\n",
       "      <td>2.390918</td>\n",
       "    </tr>\n",
       "    <tr>\n",
       "      <th>D</th>\n",
       "      <td>1.457392</td>\n",
       "      <td>1.265555</td>\n",
       "      <td>0.251421</td>\n",
       "      <td>0.293339</td>\n",
       "      <td>-0.337887</td>\n",
       "      <td>0.262432</td>\n",
       "    </tr>\n",
       "  </tbody>\n",
       "</table>\n",
       "</div>"
      ],
      "text/plain": [
       "   2020-02-06  2020-02-07  2020-02-08  2020-02-09  2020-02-10  2020-02-11\n",
       "A   -0.499077   -1.696032    0.062527    0.005588   -2.048418   -0.092641\n",
       "B   -0.387091    0.428707   -0.750839   -2.938119    1.131347    1.311619\n",
       "C   -0.172582   -2.086388   -1.636388    0.369765    0.092944    2.390918\n",
       "D    1.457392    1.265555    0.251421    0.293339   -0.337887    0.262432"
      ]
     },
     "execution_count": 21,
     "metadata": {},
     "output_type": "execute_result"
    }
   ],
   "source": [
    "##Converts column to row and row to column\n",
    "df.T"
   ]
  },
  {
   "cell_type": "code",
   "execution_count": 22,
   "metadata": {},
   "outputs": [
    {
     "data": {
      "text/html": [
       "<div>\n",
       "<style scoped>\n",
       "    .dataframe tbody tr th:only-of-type {\n",
       "        vertical-align: middle;\n",
       "    }\n",
       "\n",
       "    .dataframe tbody tr th {\n",
       "        vertical-align: top;\n",
       "    }\n",
       "\n",
       "    .dataframe thead th {\n",
       "        text-align: right;\n",
       "    }\n",
       "</style>\n",
       "<table border=\"1\" class=\"dataframe\">\n",
       "  <thead>\n",
       "    <tr style=\"text-align: right;\">\n",
       "      <th></th>\n",
       "      <th>A</th>\n",
       "      <th>B</th>\n",
       "      <th>C</th>\n",
       "      <th>D</th>\n",
       "    </tr>\n",
       "  </thead>\n",
       "  <tbody>\n",
       "    <tr>\n",
       "      <th>2020-02-06</th>\n",
       "      <td>-0.499077</td>\n",
       "      <td>-0.387091</td>\n",
       "      <td>-0.172582</td>\n",
       "      <td>1.457392</td>\n",
       "    </tr>\n",
       "    <tr>\n",
       "      <th>2020-02-07</th>\n",
       "      <td>-1.696032</td>\n",
       "      <td>0.428707</td>\n",
       "      <td>-2.086388</td>\n",
       "      <td>1.265555</td>\n",
       "    </tr>\n",
       "    <tr>\n",
       "      <th>2020-02-08</th>\n",
       "      <td>0.062527</td>\n",
       "      <td>-0.750839</td>\n",
       "      <td>-1.636388</td>\n",
       "      <td>0.251421</td>\n",
       "    </tr>\n",
       "    <tr>\n",
       "      <th>2020-02-09</th>\n",
       "      <td>0.005588</td>\n",
       "      <td>-2.938119</td>\n",
       "      <td>0.369765</td>\n",
       "      <td>0.293339</td>\n",
       "    </tr>\n",
       "    <tr>\n",
       "      <th>2020-02-10</th>\n",
       "      <td>-2.048418</td>\n",
       "      <td>1.131347</td>\n",
       "      <td>0.092944</td>\n",
       "      <td>-0.337887</td>\n",
       "    </tr>\n",
       "    <tr>\n",
       "      <th>2020-02-11</th>\n",
       "      <td>-0.092641</td>\n",
       "      <td>1.311619</td>\n",
       "      <td>2.390918</td>\n",
       "      <td>0.262432</td>\n",
       "    </tr>\n",
       "  </tbody>\n",
       "</table>\n",
       "</div>"
      ],
      "text/plain": [
       "                   A         B         C         D\n",
       "2020-02-06 -0.499077 -0.387091 -0.172582  1.457392\n",
       "2020-02-07 -1.696032  0.428707 -2.086388  1.265555\n",
       "2020-02-08  0.062527 -0.750839 -1.636388  0.251421\n",
       "2020-02-09  0.005588 -2.938119  0.369765  0.293339\n",
       "2020-02-10 -2.048418  1.131347  0.092944 -0.337887\n",
       "2020-02-11 -0.092641  1.311619  2.390918  0.262432"
      ]
     },
     "execution_count": 22,
     "metadata": {},
     "output_type": "execute_result"
    }
   ],
   "source": [
    "df"
   ]
  },
  {
   "cell_type": "code",
   "execution_count": 27,
   "metadata": {},
   "outputs": [
    {
     "data": {
      "text/html": [
       "<div>\n",
       "<style scoped>\n",
       "    .dataframe tbody tr th:only-of-type {\n",
       "        vertical-align: middle;\n",
       "    }\n",
       "\n",
       "    .dataframe tbody tr th {\n",
       "        vertical-align: top;\n",
       "    }\n",
       "\n",
       "    .dataframe thead th {\n",
       "        text-align: right;\n",
       "    }\n",
       "</style>\n",
       "<table border=\"1\" class=\"dataframe\">\n",
       "  <thead>\n",
       "    <tr style=\"text-align: right;\">\n",
       "      <th></th>\n",
       "      <th>D</th>\n",
       "      <th>C</th>\n",
       "      <th>B</th>\n",
       "      <th>A</th>\n",
       "    </tr>\n",
       "  </thead>\n",
       "  <tbody>\n",
       "    <tr>\n",
       "      <th>2020-02-06</th>\n",
       "      <td>1.457392</td>\n",
       "      <td>-0.172582</td>\n",
       "      <td>-0.387091</td>\n",
       "      <td>-0.499077</td>\n",
       "    </tr>\n",
       "    <tr>\n",
       "      <th>2020-02-07</th>\n",
       "      <td>1.265555</td>\n",
       "      <td>-2.086388</td>\n",
       "      <td>0.428707</td>\n",
       "      <td>-1.696032</td>\n",
       "    </tr>\n",
       "    <tr>\n",
       "      <th>2020-02-08</th>\n",
       "      <td>0.251421</td>\n",
       "      <td>-1.636388</td>\n",
       "      <td>-0.750839</td>\n",
       "      <td>0.062527</td>\n",
       "    </tr>\n",
       "    <tr>\n",
       "      <th>2020-02-09</th>\n",
       "      <td>0.293339</td>\n",
       "      <td>0.369765</td>\n",
       "      <td>-2.938119</td>\n",
       "      <td>0.005588</td>\n",
       "    </tr>\n",
       "    <tr>\n",
       "      <th>2020-02-10</th>\n",
       "      <td>-0.337887</td>\n",
       "      <td>0.092944</td>\n",
       "      <td>1.131347</td>\n",
       "      <td>-2.048418</td>\n",
       "    </tr>\n",
       "    <tr>\n",
       "      <th>2020-02-11</th>\n",
       "      <td>0.262432</td>\n",
       "      <td>2.390918</td>\n",
       "      <td>1.311619</td>\n",
       "      <td>-0.092641</td>\n",
       "    </tr>\n",
       "  </tbody>\n",
       "</table>\n",
       "</div>"
      ],
      "text/plain": [
       "                   D         C         B         A\n",
       "2020-02-06  1.457392 -0.172582 -0.387091 -0.499077\n",
       "2020-02-07  1.265555 -2.086388  0.428707 -1.696032\n",
       "2020-02-08  0.251421 -1.636388 -0.750839  0.062527\n",
       "2020-02-09  0.293339  0.369765 -2.938119  0.005588\n",
       "2020-02-10 -0.337887  0.092944  1.131347 -2.048418\n",
       "2020-02-11  0.262432  2.390918  1.311619 -0.092641"
      ]
     },
     "execution_count": 27,
     "metadata": {},
     "output_type": "execute_result"
    }
   ],
   "source": [
    "df.sort_index(axis = 1, ascending=False)\n",
    "##Axis 1=Column, 0=Row"
   ]
  },
  {
   "cell_type": "code",
   "execution_count": 68,
   "metadata": {},
   "outputs": [
    {
     "data": {
      "text/html": [
       "<div>\n",
       "<style scoped>\n",
       "    .dataframe tbody tr th:only-of-type {\n",
       "        vertical-align: middle;\n",
       "    }\n",
       "\n",
       "    .dataframe tbody tr th {\n",
       "        vertical-align: top;\n",
       "    }\n",
       "\n",
       "    .dataframe thead th {\n",
       "        text-align: right;\n",
       "    }\n",
       "</style>\n",
       "<table border=\"1\" class=\"dataframe\">\n",
       "  <thead>\n",
       "    <tr style=\"text-align: right;\">\n",
       "      <th></th>\n",
       "      <th>A</th>\n",
       "      <th>B</th>\n",
       "      <th>C</th>\n",
       "      <th>D</th>\n",
       "    </tr>\n",
       "  </thead>\n",
       "  <tbody>\n",
       "    <tr>\n",
       "      <th>2020-02-10</th>\n",
       "      <td>1.348618</td>\n",
       "      <td>-0.120040</td>\n",
       "      <td>0.800439</td>\n",
       "      <td>-0.761444</td>\n",
       "    </tr>\n",
       "    <tr>\n",
       "      <th>2020-02-11</th>\n",
       "      <td>-1.162465</td>\n",
       "      <td>-1.530310</td>\n",
       "      <td>-0.946202</td>\n",
       "      <td>-0.018284</td>\n",
       "    </tr>\n",
       "    <tr>\n",
       "      <th>2020-02-07</th>\n",
       "      <td>0.497513</td>\n",
       "      <td>0.672946</td>\n",
       "      <td>-0.598170</td>\n",
       "      <td>0.426090</td>\n",
       "    </tr>\n",
       "    <tr>\n",
       "      <th>2020-02-06</th>\n",
       "      <td>0.453758</td>\n",
       "      <td>-0.612517</td>\n",
       "      <td>0.606203</td>\n",
       "      <td>0.583995</td>\n",
       "    </tr>\n",
       "    <tr>\n",
       "      <th>2020-02-08</th>\n",
       "      <td>0.488950</td>\n",
       "      <td>0.022278</td>\n",
       "      <td>-1.383475</td>\n",
       "      <td>0.775851</td>\n",
       "    </tr>\n",
       "    <tr>\n",
       "      <th>2020-02-09</th>\n",
       "      <td>-1.208866</td>\n",
       "      <td>0.236207</td>\n",
       "      <td>-0.578290</td>\n",
       "      <td>0.921225</td>\n",
       "    </tr>\n",
       "  </tbody>\n",
       "</table>\n",
       "</div>"
      ],
      "text/plain": [
       "                   A         B         C         D\n",
       "2020-02-10  1.348618 -0.120040  0.800439 -0.761444\n",
       "2020-02-11 -1.162465 -1.530310 -0.946202 -0.018284\n",
       "2020-02-07  0.497513  0.672946 -0.598170  0.426090\n",
       "2020-02-06  0.453758 -0.612517  0.606203  0.583995\n",
       "2020-02-08  0.488950  0.022278 -1.383475  0.775851\n",
       "2020-02-09 -1.208866  0.236207 -0.578290  0.921225"
      ]
     },
     "execution_count": 68,
     "metadata": {},
     "output_type": "execute_result"
    }
   ],
   "source": [
    "df.sort_values(axis = 0, by='D', ascending=True)"
   ]
  },
  {
   "cell_type": "code",
   "execution_count": 81,
   "metadata": {},
   "outputs": [
    {
     "data": {
      "text/html": [
       "<div>\n",
       "<style scoped>\n",
       "    .dataframe tbody tr th:only-of-type {\n",
       "        vertical-align: middle;\n",
       "    }\n",
       "\n",
       "    .dataframe tbody tr th {\n",
       "        vertical-align: top;\n",
       "    }\n",
       "\n",
       "    .dataframe thead th {\n",
       "        text-align: right;\n",
       "    }\n",
       "</style>\n",
       "<table border=\"1\" class=\"dataframe\">\n",
       "  <thead>\n",
       "    <tr style=\"text-align: right;\">\n",
       "      <th></th>\n",
       "      <th>A</th>\n",
       "      <th>B</th>\n",
       "      <th>C</th>\n",
       "      <th>D</th>\n",
       "    </tr>\n",
       "  </thead>\n",
       "  <tbody>\n",
       "    <tr>\n",
       "      <th>2020-02-08</th>\n",
       "      <td>0.488950</td>\n",
       "      <td>0.022278</td>\n",
       "      <td>-1.383475</td>\n",
       "      <td>0.775851</td>\n",
       "    </tr>\n",
       "    <tr>\n",
       "      <th>2020-02-09</th>\n",
       "      <td>-1.208866</td>\n",
       "      <td>0.236207</td>\n",
       "      <td>-0.578290</td>\n",
       "      <td>0.921225</td>\n",
       "    </tr>\n",
       "    <tr>\n",
       "      <th>2020-02-10</th>\n",
       "      <td>1.348618</td>\n",
       "      <td>-0.120040</td>\n",
       "      <td>0.800439</td>\n",
       "      <td>-0.761444</td>\n",
       "    </tr>\n",
       "  </tbody>\n",
       "</table>\n",
       "</div>"
      ],
      "text/plain": [
       "                   A         B         C         D\n",
       "2020-02-08  0.488950  0.022278 -1.383475  0.775851\n",
       "2020-02-09 -1.208866  0.236207 -0.578290  0.921225\n",
       "2020-02-10  1.348618 -0.120040  0.800439 -0.761444"
      ]
     },
     "execution_count": 81,
     "metadata": {},
     "output_type": "execute_result"
    }
   ],
   "source": [
    "df['2020-02-08':'2020-02-10']"
   ]
  },
  {
   "cell_type": "code",
   "execution_count": 85,
   "metadata": {},
   "outputs": [
    {
     "data": {
      "text/plain": [
       "Timestamp('2020-02-08 00:00:00', freq='D')"
      ]
     },
     "execution_count": 85,
     "metadata": {},
     "output_type": "execute_result"
    }
   ],
   "source": [
    "dates[2]"
   ]
  },
  {
   "cell_type": "markdown",
   "metadata": {},
   "source": [
    "# Displaying based on Label - df.loc"
   ]
  },
  {
   "cell_type": "code",
   "execution_count": 89,
   "metadata": {},
   "outputs": [
    {
     "data": {
      "text/html": [
       "<div>\n",
       "<style scoped>\n",
       "    .dataframe tbody tr th:only-of-type {\n",
       "        vertical-align: middle;\n",
       "    }\n",
       "\n",
       "    .dataframe tbody tr th {\n",
       "        vertical-align: top;\n",
       "    }\n",
       "\n",
       "    .dataframe thead th {\n",
       "        text-align: right;\n",
       "    }\n",
       "</style>\n",
       "<table border=\"1\" class=\"dataframe\">\n",
       "  <thead>\n",
       "    <tr style=\"text-align: right;\">\n",
       "      <th></th>\n",
       "      <th>A</th>\n",
       "      <th>B</th>\n",
       "      <th>C</th>\n",
       "      <th>D</th>\n",
       "    </tr>\n",
       "  </thead>\n",
       "  <tbody>\n",
       "    <tr>\n",
       "      <th>2020-02-06</th>\n",
       "      <td>0.453758</td>\n",
       "      <td>-0.612517</td>\n",
       "      <td>0.606203</td>\n",
       "      <td>0.583995</td>\n",
       "    </tr>\n",
       "    <tr>\n",
       "      <th>2020-02-07</th>\n",
       "      <td>0.497513</td>\n",
       "      <td>0.672946</td>\n",
       "      <td>-0.598170</td>\n",
       "      <td>0.426090</td>\n",
       "    </tr>\n",
       "    <tr>\n",
       "      <th>2020-02-08</th>\n",
       "      <td>0.488950</td>\n",
       "      <td>0.022278</td>\n",
       "      <td>-1.383475</td>\n",
       "      <td>0.775851</td>\n",
       "    </tr>\n",
       "    <tr>\n",
       "      <th>2020-02-09</th>\n",
       "      <td>-1.208866</td>\n",
       "      <td>0.236207</td>\n",
       "      <td>-0.578290</td>\n",
       "      <td>0.921225</td>\n",
       "    </tr>\n",
       "    <tr>\n",
       "      <th>2020-02-10</th>\n",
       "      <td>1.348618</td>\n",
       "      <td>-0.120040</td>\n",
       "      <td>0.800439</td>\n",
       "      <td>-0.761444</td>\n",
       "    </tr>\n",
       "    <tr>\n",
       "      <th>2020-02-11</th>\n",
       "      <td>-1.162465</td>\n",
       "      <td>-1.530310</td>\n",
       "      <td>-0.946202</td>\n",
       "      <td>-0.018284</td>\n",
       "    </tr>\n",
       "  </tbody>\n",
       "</table>\n",
       "</div>"
      ],
      "text/plain": [
       "                   A         B         C         D\n",
       "2020-02-06  0.453758 -0.612517  0.606203  0.583995\n",
       "2020-02-07  0.497513  0.672946 -0.598170  0.426090\n",
       "2020-02-08  0.488950  0.022278 -1.383475  0.775851\n",
       "2020-02-09 -1.208866  0.236207 -0.578290  0.921225\n",
       "2020-02-10  1.348618 -0.120040  0.800439 -0.761444\n",
       "2020-02-11 -1.162465 -1.530310 -0.946202 -0.018284"
      ]
     },
     "execution_count": 89,
     "metadata": {},
     "output_type": "execute_result"
    }
   ],
   "source": [
    "df"
   ]
  },
  {
   "cell_type": "code",
   "execution_count": 118,
   "metadata": {},
   "outputs": [
    {
     "data": {
      "text/html": [
       "<div>\n",
       "<style scoped>\n",
       "    .dataframe tbody tr th:only-of-type {\n",
       "        vertical-align: middle;\n",
       "    }\n",
       "\n",
       "    .dataframe tbody tr th {\n",
       "        vertical-align: top;\n",
       "    }\n",
       "\n",
       "    .dataframe thead th {\n",
       "        text-align: right;\n",
       "    }\n",
       "</style>\n",
       "<table border=\"1\" class=\"dataframe\">\n",
       "  <thead>\n",
       "    <tr style=\"text-align: right;\">\n",
       "      <th></th>\n",
       "      <th>A</th>\n",
       "      <th>B</th>\n",
       "      <th>C</th>\n",
       "      <th>D</th>\n",
       "    </tr>\n",
       "  </thead>\n",
       "  <tbody>\n",
       "    <tr>\n",
       "      <th>2020-02-06</th>\n",
       "      <td>0.298379</td>\n",
       "      <td>0.760788</td>\n",
       "      <td>1.399551</td>\n",
       "      <td>0.617257</td>\n",
       "    </tr>\n",
       "    <tr>\n",
       "      <th>2020-02-07</th>\n",
       "      <td>1.109557</td>\n",
       "      <td>-0.037919</td>\n",
       "      <td>0.542186</td>\n",
       "      <td>0.120362</td>\n",
       "    </tr>\n",
       "    <tr>\n",
       "      <th>2020-02-08</th>\n",
       "      <td>1.404606</td>\n",
       "      <td>0.337755</td>\n",
       "      <td>0.324568</td>\n",
       "      <td>0.564525</td>\n",
       "    </tr>\n",
       "  </tbody>\n",
       "</table>\n",
       "</div>"
      ],
      "text/plain": [
       "                   A         B         C         D\n",
       "2020-02-06  0.298379  0.760788  1.399551  0.617257\n",
       "2020-02-07  1.109557 -0.037919  0.542186  0.120362\n",
       "2020-02-08  1.404606  0.337755  0.324568  0.564525"
      ]
     },
     "execution_count": 118,
     "metadata": {},
     "output_type": "execute_result"
    }
   ],
   "source": [
    "df[0:3]"
   ]
  },
  {
   "cell_type": "code",
   "execution_count": 88,
   "metadata": {},
   "outputs": [
    {
     "data": {
      "text/plain": [
       "A    0.497513\n",
       "B    0.672946\n",
       "C   -0.598170\n",
       "D    0.426090\n",
       "Name: 2020-02-07 00:00:00, dtype: float64"
      ]
     },
     "execution_count": 88,
     "metadata": {},
     "output_type": "execute_result"
    }
   ],
   "source": [
    "df.loc[dates[1]]"
   ]
  },
  {
   "cell_type": "code",
   "execution_count": 121,
   "metadata": {},
   "outputs": [
    {
     "data": {
      "text/html": [
       "<div>\n",
       "<style scoped>\n",
       "    .dataframe tbody tr th:only-of-type {\n",
       "        vertical-align: middle;\n",
       "    }\n",
       "\n",
       "    .dataframe tbody tr th {\n",
       "        vertical-align: top;\n",
       "    }\n",
       "\n",
       "    .dataframe thead th {\n",
       "        text-align: right;\n",
       "    }\n",
       "</style>\n",
       "<table border=\"1\" class=\"dataframe\">\n",
       "  <thead>\n",
       "    <tr style=\"text-align: right;\">\n",
       "      <th></th>\n",
       "      <th>A</th>\n",
       "      <th>B</th>\n",
       "      <th>C</th>\n",
       "      <th>D</th>\n",
       "    </tr>\n",
       "  </thead>\n",
       "  <tbody>\n",
       "    <tr>\n",
       "      <th>2020-02-06</th>\n",
       "      <td>0.298379</td>\n",
       "      <td>0.760788</td>\n",
       "      <td>1.399551</td>\n",
       "      <td>0.617257</td>\n",
       "    </tr>\n",
       "    <tr>\n",
       "      <th>2020-02-07</th>\n",
       "      <td>1.109557</td>\n",
       "      <td>-0.037919</td>\n",
       "      <td>0.542186</td>\n",
       "      <td>0.120362</td>\n",
       "    </tr>\n",
       "  </tbody>\n",
       "</table>\n",
       "</div>"
      ],
      "text/plain": [
       "                   A         B         C         D\n",
       "2020-02-06  0.298379  0.760788  1.399551  0.617257\n",
       "2020-02-07  1.109557 -0.037919  0.542186  0.120362"
      ]
     },
     "execution_count": 121,
     "metadata": {},
     "output_type": "execute_result"
    }
   ],
   "source": [
    "df.loc[:'2020-02-07']"
   ]
  },
  {
   "cell_type": "code",
   "execution_count": 112,
   "metadata": {},
   "outputs": [
    {
     "data": {
      "text/html": [
       "<div>\n",
       "<style scoped>\n",
       "    .dataframe tbody tr th:only-of-type {\n",
       "        vertical-align: middle;\n",
       "    }\n",
       "\n",
       "    .dataframe tbody tr th {\n",
       "        vertical-align: top;\n",
       "    }\n",
       "\n",
       "    .dataframe thead th {\n",
       "        text-align: right;\n",
       "    }\n",
       "</style>\n",
       "<table border=\"1\" class=\"dataframe\">\n",
       "  <thead>\n",
       "    <tr style=\"text-align: right;\">\n",
       "      <th></th>\n",
       "      <th>A</th>\n",
       "      <th>B</th>\n",
       "      <th>C</th>\n",
       "      <th>D</th>\n",
       "    </tr>\n",
       "  </thead>\n",
       "  <tbody>\n",
       "    <tr>\n",
       "      <th>2020-02-06</th>\n",
       "      <td>0.298379</td>\n",
       "      <td>0.760788</td>\n",
       "      <td>1.399551</td>\n",
       "      <td>0.617257</td>\n",
       "    </tr>\n",
       "    <tr>\n",
       "      <th>2020-02-07</th>\n",
       "      <td>1.109557</td>\n",
       "      <td>-0.037919</td>\n",
       "      <td>0.542186</td>\n",
       "      <td>0.120362</td>\n",
       "    </tr>\n",
       "    <tr>\n",
       "      <th>2020-02-08</th>\n",
       "      <td>1.404606</td>\n",
       "      <td>0.337755</td>\n",
       "      <td>0.324568</td>\n",
       "      <td>0.564525</td>\n",
       "    </tr>\n",
       "  </tbody>\n",
       "</table>\n",
       "</div>"
      ],
      "text/plain": [
       "                   A         B         C         D\n",
       "2020-02-06  0.298379  0.760788  1.399551  0.617257\n",
       "2020-02-07  1.109557 -0.037919  0.542186  0.120362\n",
       "2020-02-08  1.404606  0.337755  0.324568  0.564525"
      ]
     },
     "execution_count": 112,
     "metadata": {},
     "output_type": "execute_result"
    }
   ],
   "source": [
    "df.loc['2020-02-06':'2020-02-08']"
   ]
  },
  {
   "cell_type": "code",
   "execution_count": 113,
   "metadata": {},
   "outputs": [
    {
     "data": {
      "text/html": [
       "<div>\n",
       "<style scoped>\n",
       "    .dataframe tbody tr th:only-of-type {\n",
       "        vertical-align: middle;\n",
       "    }\n",
       "\n",
       "    .dataframe tbody tr th {\n",
       "        vertical-align: top;\n",
       "    }\n",
       "\n",
       "    .dataframe thead th {\n",
       "        text-align: right;\n",
       "    }\n",
       "</style>\n",
       "<table border=\"1\" class=\"dataframe\">\n",
       "  <thead>\n",
       "    <tr style=\"text-align: right;\">\n",
       "      <th></th>\n",
       "      <th>A</th>\n",
       "      <th>D</th>\n",
       "    </tr>\n",
       "  </thead>\n",
       "  <tbody>\n",
       "    <tr>\n",
       "      <th>2020-02-06</th>\n",
       "      <td>0.298379</td>\n",
       "      <td>0.617257</td>\n",
       "    </tr>\n",
       "    <tr>\n",
       "      <th>2020-02-07</th>\n",
       "      <td>1.109557</td>\n",
       "      <td>0.120362</td>\n",
       "    </tr>\n",
       "    <tr>\n",
       "      <th>2020-02-08</th>\n",
       "      <td>1.404606</td>\n",
       "      <td>0.564525</td>\n",
       "    </tr>\n",
       "  </tbody>\n",
       "</table>\n",
       "</div>"
      ],
      "text/plain": [
       "                   A         D\n",
       "2020-02-06  0.298379  0.617257\n",
       "2020-02-07  1.109557  0.120362\n",
       "2020-02-08  1.404606  0.564525"
      ]
     },
     "execution_count": 113,
     "metadata": {},
     "output_type": "execute_result"
    }
   ],
   "source": [
    "df.loc['2020-02-06':'2020-02-08',['A','D']]"
   ]
  },
  {
   "cell_type": "code",
   "execution_count": 123,
   "metadata": {},
   "outputs": [
    {
     "data": {
      "text/plain": [
       "A    0.298379\n",
       "D    0.617257\n",
       "B    0.760788\n",
       "Name: 2020-02-06 00:00:00, dtype: float64"
      ]
     },
     "execution_count": 123,
     "metadata": {},
     "output_type": "execute_result"
    }
   ],
   "source": [
    "df.loc['2020-02-06',['A','D','B']]"
   ]
  },
  {
   "cell_type": "markdown",
   "metadata": {},
   "source": [
    "# Displaying based on position - df.iloc\n"
   ]
  },
  {
   "cell_type": "code",
   "execution_count": 124,
   "metadata": {},
   "outputs": [
    {
     "data": {
      "text/html": [
       "<div>\n",
       "<style scoped>\n",
       "    .dataframe tbody tr th:only-of-type {\n",
       "        vertical-align: middle;\n",
       "    }\n",
       "\n",
       "    .dataframe tbody tr th {\n",
       "        vertical-align: top;\n",
       "    }\n",
       "\n",
       "    .dataframe thead th {\n",
       "        text-align: right;\n",
       "    }\n",
       "</style>\n",
       "<table border=\"1\" class=\"dataframe\">\n",
       "  <thead>\n",
       "    <tr style=\"text-align: right;\">\n",
       "      <th></th>\n",
       "      <th>A</th>\n",
       "      <th>B</th>\n",
       "      <th>C</th>\n",
       "      <th>D</th>\n",
       "    </tr>\n",
       "  </thead>\n",
       "  <tbody>\n",
       "    <tr>\n",
       "      <th>2020-02-06</th>\n",
       "      <td>0.298379</td>\n",
       "      <td>0.760788</td>\n",
       "      <td>1.399551</td>\n",
       "      <td>0.617257</td>\n",
       "    </tr>\n",
       "    <tr>\n",
       "      <th>2020-02-07</th>\n",
       "      <td>1.109557</td>\n",
       "      <td>-0.037919</td>\n",
       "      <td>0.542186</td>\n",
       "      <td>0.120362</td>\n",
       "    </tr>\n",
       "    <tr>\n",
       "      <th>2020-02-08</th>\n",
       "      <td>1.404606</td>\n",
       "      <td>0.337755</td>\n",
       "      <td>0.324568</td>\n",
       "      <td>0.564525</td>\n",
       "    </tr>\n",
       "    <tr>\n",
       "      <th>2020-02-09</th>\n",
       "      <td>-0.132620</td>\n",
       "      <td>0.102771</td>\n",
       "      <td>-0.241095</td>\n",
       "      <td>-0.019171</td>\n",
       "    </tr>\n",
       "    <tr>\n",
       "      <th>2020-02-10</th>\n",
       "      <td>1.480049</td>\n",
       "      <td>1.549259</td>\n",
       "      <td>1.045467</td>\n",
       "      <td>0.375992</td>\n",
       "    </tr>\n",
       "    <tr>\n",
       "      <th>2020-02-11</th>\n",
       "      <td>1.014439</td>\n",
       "      <td>1.233132</td>\n",
       "      <td>-0.820739</td>\n",
       "      <td>-0.058877</td>\n",
       "    </tr>\n",
       "  </tbody>\n",
       "</table>\n",
       "</div>"
      ],
      "text/plain": [
       "                   A         B         C         D\n",
       "2020-02-06  0.298379  0.760788  1.399551  0.617257\n",
       "2020-02-07  1.109557 -0.037919  0.542186  0.120362\n",
       "2020-02-08  1.404606  0.337755  0.324568  0.564525\n",
       "2020-02-09 -0.132620  0.102771 -0.241095 -0.019171\n",
       "2020-02-10  1.480049  1.549259  1.045467  0.375992\n",
       "2020-02-11  1.014439  1.233132 -0.820739 -0.058877"
      ]
     },
     "execution_count": 124,
     "metadata": {},
     "output_type": "execute_result"
    }
   ],
   "source": [
    "df.iloc[:]"
   ]
  },
  {
   "cell_type": "code",
   "execution_count": 125,
   "metadata": {},
   "outputs": [
    {
     "data": {
      "text/html": [
       "<div>\n",
       "<style scoped>\n",
       "    .dataframe tbody tr th:only-of-type {\n",
       "        vertical-align: middle;\n",
       "    }\n",
       "\n",
       "    .dataframe tbody tr th {\n",
       "        vertical-align: top;\n",
       "    }\n",
       "\n",
       "    .dataframe thead th {\n",
       "        text-align: right;\n",
       "    }\n",
       "</style>\n",
       "<table border=\"1\" class=\"dataframe\">\n",
       "  <thead>\n",
       "    <tr style=\"text-align: right;\">\n",
       "      <th></th>\n",
       "      <th>A</th>\n",
       "      <th>B</th>\n",
       "    </tr>\n",
       "  </thead>\n",
       "  <tbody>\n",
       "    <tr>\n",
       "      <th>2020-02-06</th>\n",
       "      <td>0.298379</td>\n",
       "      <td>0.760788</td>\n",
       "    </tr>\n",
       "    <tr>\n",
       "      <th>2020-02-07</th>\n",
       "      <td>1.109557</td>\n",
       "      <td>-0.037919</td>\n",
       "    </tr>\n",
       "    <tr>\n",
       "      <th>2020-02-08</th>\n",
       "      <td>1.404606</td>\n",
       "      <td>0.337755</td>\n",
       "    </tr>\n",
       "    <tr>\n",
       "      <th>2020-02-09</th>\n",
       "      <td>-0.132620</td>\n",
       "      <td>0.102771</td>\n",
       "    </tr>\n",
       "    <tr>\n",
       "      <th>2020-02-10</th>\n",
       "      <td>1.480049</td>\n",
       "      <td>1.549259</td>\n",
       "    </tr>\n",
       "    <tr>\n",
       "      <th>2020-02-11</th>\n",
       "      <td>1.014439</td>\n",
       "      <td>1.233132</td>\n",
       "    </tr>\n",
       "  </tbody>\n",
       "</table>\n",
       "</div>"
      ],
      "text/plain": [
       "                   A         B\n",
       "2020-02-06  0.298379  0.760788\n",
       "2020-02-07  1.109557 -0.037919\n",
       "2020-02-08  1.404606  0.337755\n",
       "2020-02-09 -0.132620  0.102771\n",
       "2020-02-10  1.480049  1.549259\n",
       "2020-02-11  1.014439  1.233132"
      ]
     },
     "execution_count": 125,
     "metadata": {},
     "output_type": "execute_result"
    }
   ],
   "source": [
    "df.iloc[:,0:2]"
   ]
  },
  {
   "cell_type": "code",
   "execution_count": 132,
   "metadata": {},
   "outputs": [
    {
     "data": {
      "text/html": [
       "<div>\n",
       "<style scoped>\n",
       "    .dataframe tbody tr th:only-of-type {\n",
       "        vertical-align: middle;\n",
       "    }\n",
       "\n",
       "    .dataframe tbody tr th {\n",
       "        vertical-align: top;\n",
       "    }\n",
       "\n",
       "    .dataframe thead th {\n",
       "        text-align: right;\n",
       "    }\n",
       "</style>\n",
       "<table border=\"1\" class=\"dataframe\">\n",
       "  <thead>\n",
       "    <tr style=\"text-align: right;\">\n",
       "      <th></th>\n",
       "      <th>A</th>\n",
       "      <th>C</th>\n",
       "      <th>B</th>\n",
       "    </tr>\n",
       "  </thead>\n",
       "  <tbody>\n",
       "    <tr>\n",
       "      <th>2020-02-06</th>\n",
       "      <td>0.298379</td>\n",
       "      <td>1.399551</td>\n",
       "      <td>0.760788</td>\n",
       "    </tr>\n",
       "    <tr>\n",
       "      <th>2020-02-07</th>\n",
       "      <td>1.109557</td>\n",
       "      <td>0.542186</td>\n",
       "      <td>-0.037919</td>\n",
       "    </tr>\n",
       "    <tr>\n",
       "      <th>2020-02-08</th>\n",
       "      <td>1.404606</td>\n",
       "      <td>0.324568</td>\n",
       "      <td>0.337755</td>\n",
       "    </tr>\n",
       "    <tr>\n",
       "      <th>2020-02-09</th>\n",
       "      <td>-0.132620</td>\n",
       "      <td>-0.241095</td>\n",
       "      <td>0.102771</td>\n",
       "    </tr>\n",
       "    <tr>\n",
       "      <th>2020-02-10</th>\n",
       "      <td>1.480049</td>\n",
       "      <td>1.045467</td>\n",
       "      <td>1.549259</td>\n",
       "    </tr>\n",
       "    <tr>\n",
       "      <th>2020-02-11</th>\n",
       "      <td>1.014439</td>\n",
       "      <td>-0.820739</td>\n",
       "      <td>1.233132</td>\n",
       "    </tr>\n",
       "  </tbody>\n",
       "</table>\n",
       "</div>"
      ],
      "text/plain": [
       "                   A         C         B\n",
       "2020-02-06  0.298379  1.399551  0.760788\n",
       "2020-02-07  1.109557  0.542186 -0.037919\n",
       "2020-02-08  1.404606  0.324568  0.337755\n",
       "2020-02-09 -0.132620 -0.241095  0.102771\n",
       "2020-02-10  1.480049  1.045467  1.549259\n",
       "2020-02-11  1.014439 -0.820739  1.233132"
      ]
     },
     "execution_count": 132,
     "metadata": {},
     "output_type": "execute_result"
    }
   ],
   "source": [
    "df.iloc[:,[0,2,1]]\n",
    "##Range row and selective column"
   ]
  },
  {
   "cell_type": "code",
   "execution_count": 28,
   "metadata": {},
   "outputs": [
    {
     "data": {
      "text/html": [
       "<div>\n",
       "<style scoped>\n",
       "    .dataframe tbody tr th:only-of-type {\n",
       "        vertical-align: middle;\n",
       "    }\n",
       "\n",
       "    .dataframe tbody tr th {\n",
       "        vertical-align: top;\n",
       "    }\n",
       "\n",
       "    .dataframe thead th {\n",
       "        text-align: right;\n",
       "    }\n",
       "</style>\n",
       "<table border=\"1\" class=\"dataframe\">\n",
       "  <thead>\n",
       "    <tr style=\"text-align: right;\">\n",
       "      <th></th>\n",
       "      <th>A</th>\n",
       "      <th>C</th>\n",
       "      <th>B</th>\n",
       "    </tr>\n",
       "  </thead>\n",
       "  <tbody>\n",
       "    <tr>\n",
       "      <th>2020-02-07</th>\n",
       "      <td>-1.696032</td>\n",
       "      <td>-2.086388</td>\n",
       "      <td>0.428707</td>\n",
       "    </tr>\n",
       "    <tr>\n",
       "      <th>2020-02-11</th>\n",
       "      <td>-0.092641</td>\n",
       "      <td>2.390918</td>\n",
       "      <td>1.311619</td>\n",
       "    </tr>\n",
       "  </tbody>\n",
       "</table>\n",
       "</div>"
      ],
      "text/plain": [
       "                   A         C         B\n",
       "2020-02-07 -1.696032 -2.086388  0.428707\n",
       "2020-02-11 -0.092641  2.390918  1.311619"
      ]
     },
     "execution_count": 28,
     "metadata": {},
     "output_type": "execute_result"
    }
   ],
   "source": [
    "df.iloc[[1,5],[0,2,1]]\n",
    "##Selective row and selective column"
   ]
  },
  {
   "cell_type": "code",
   "execution_count": 134,
   "metadata": {},
   "outputs": [
    {
     "data": {
      "text/html": [
       "<div>\n",
       "<style scoped>\n",
       "    .dataframe tbody tr th:only-of-type {\n",
       "        vertical-align: middle;\n",
       "    }\n",
       "\n",
       "    .dataframe tbody tr th {\n",
       "        vertical-align: top;\n",
       "    }\n",
       "\n",
       "    .dataframe thead th {\n",
       "        text-align: right;\n",
       "    }\n",
       "</style>\n",
       "<table border=\"1\" class=\"dataframe\">\n",
       "  <thead>\n",
       "    <tr style=\"text-align: right;\">\n",
       "      <th></th>\n",
       "      <th>A</th>\n",
       "      <th>C</th>\n",
       "      <th>B</th>\n",
       "    </tr>\n",
       "  </thead>\n",
       "  <tbody>\n",
       "    <tr>\n",
       "      <th>2020-02-07</th>\n",
       "      <td>1.109557</td>\n",
       "      <td>0.542186</td>\n",
       "      <td>-0.037919</td>\n",
       "    </tr>\n",
       "    <tr>\n",
       "      <th>2020-02-08</th>\n",
       "      <td>1.404606</td>\n",
       "      <td>0.324568</td>\n",
       "      <td>0.337755</td>\n",
       "    </tr>\n",
       "    <tr>\n",
       "      <th>2020-02-09</th>\n",
       "      <td>-0.132620</td>\n",
       "      <td>-0.241095</td>\n",
       "      <td>0.102771</td>\n",
       "    </tr>\n",
       "    <tr>\n",
       "      <th>2020-02-10</th>\n",
       "      <td>1.480049</td>\n",
       "      <td>1.045467</td>\n",
       "      <td>1.549259</td>\n",
       "    </tr>\n",
       "  </tbody>\n",
       "</table>\n",
       "</div>"
      ],
      "text/plain": [
       "                   A         C         B\n",
       "2020-02-07  1.109557  0.542186 -0.037919\n",
       "2020-02-08  1.404606  0.324568  0.337755\n",
       "2020-02-09 -0.132620 -0.241095  0.102771\n",
       "2020-02-10  1.480049  1.045467  1.549259"
      ]
     },
     "execution_count": 134,
     "metadata": {},
     "output_type": "execute_result"
    }
   ],
   "source": [
    "df.iloc[1:5,[0,2,1]]"
   ]
  },
  {
   "cell_type": "code",
   "execution_count": 137,
   "metadata": {},
   "outputs": [
    {
     "data": {
      "text/plain": [
       "-0.03791915081859343"
      ]
     },
     "execution_count": 137,
     "metadata": {},
     "output_type": "execute_result"
    }
   ],
   "source": [
    "df.iloc[1,1]"
   ]
  },
  {
   "cell_type": "code",
   "execution_count": 138,
   "metadata": {},
   "outputs": [
    {
     "data": {
      "text/plain": [
       "-0.03791915081859343"
      ]
     },
     "execution_count": 138,
     "metadata": {},
     "output_type": "execute_result"
    }
   ],
   "source": [
    "df.iat[1,1]"
   ]
  },
  {
   "cell_type": "markdown",
   "metadata": {},
   "source": [
    "# Boolean validation"
   ]
  },
  {
   "cell_type": "code",
   "execution_count": 142,
   "metadata": {},
   "outputs": [
    {
     "data": {
      "text/html": [
       "<div>\n",
       "<style scoped>\n",
       "    .dataframe tbody tr th:only-of-type {\n",
       "        vertical-align: middle;\n",
       "    }\n",
       "\n",
       "    .dataframe tbody tr th {\n",
       "        vertical-align: top;\n",
       "    }\n",
       "\n",
       "    .dataframe thead th {\n",
       "        text-align: right;\n",
       "    }\n",
       "</style>\n",
       "<table border=\"1\" class=\"dataframe\">\n",
       "  <thead>\n",
       "    <tr style=\"text-align: right;\">\n",
       "      <th></th>\n",
       "      <th>A</th>\n",
       "      <th>B</th>\n",
       "      <th>C</th>\n",
       "      <th>D</th>\n",
       "    </tr>\n",
       "  </thead>\n",
       "  <tbody>\n",
       "    <tr>\n",
       "      <th>2020-02-06</th>\n",
       "      <td>0.298379</td>\n",
       "      <td>0.760788</td>\n",
       "      <td>1.399551</td>\n",
       "      <td>0.617257</td>\n",
       "    </tr>\n",
       "    <tr>\n",
       "      <th>2020-02-07</th>\n",
       "      <td>1.109557</td>\n",
       "      <td>-0.037919</td>\n",
       "      <td>0.542186</td>\n",
       "      <td>0.120362</td>\n",
       "    </tr>\n",
       "    <tr>\n",
       "      <th>2020-02-08</th>\n",
       "      <td>1.404606</td>\n",
       "      <td>0.337755</td>\n",
       "      <td>0.324568</td>\n",
       "      <td>0.564525</td>\n",
       "    </tr>\n",
       "    <tr>\n",
       "      <th>2020-02-09</th>\n",
       "      <td>-0.132620</td>\n",
       "      <td>0.102771</td>\n",
       "      <td>-0.241095</td>\n",
       "      <td>-0.019171</td>\n",
       "    </tr>\n",
       "    <tr>\n",
       "      <th>2020-02-10</th>\n",
       "      <td>1.480049</td>\n",
       "      <td>1.549259</td>\n",
       "      <td>1.045467</td>\n",
       "      <td>0.375992</td>\n",
       "    </tr>\n",
       "    <tr>\n",
       "      <th>2020-02-11</th>\n",
       "      <td>1.014439</td>\n",
       "      <td>1.233132</td>\n",
       "      <td>-0.820739</td>\n",
       "      <td>-0.058877</td>\n",
       "    </tr>\n",
       "  </tbody>\n",
       "</table>\n",
       "</div>"
      ],
      "text/plain": [
       "                   A         B         C         D\n",
       "2020-02-06  0.298379  0.760788  1.399551  0.617257\n",
       "2020-02-07  1.109557 -0.037919  0.542186  0.120362\n",
       "2020-02-08  1.404606  0.337755  0.324568  0.564525\n",
       "2020-02-09 -0.132620  0.102771 -0.241095 -0.019171\n",
       "2020-02-10  1.480049  1.549259  1.045467  0.375992\n",
       "2020-02-11  1.014439  1.233132 -0.820739 -0.058877"
      ]
     },
     "execution_count": 142,
     "metadata": {},
     "output_type": "execute_result"
    }
   ],
   "source": [
    "df"
   ]
  },
  {
   "cell_type": "code",
   "execution_count": 30,
   "metadata": {},
   "outputs": [
    {
     "data": {
      "text/html": [
       "<div>\n",
       "<style scoped>\n",
       "    .dataframe tbody tr th:only-of-type {\n",
       "        vertical-align: middle;\n",
       "    }\n",
       "\n",
       "    .dataframe tbody tr th {\n",
       "        vertical-align: top;\n",
       "    }\n",
       "\n",
       "    .dataframe thead th {\n",
       "        text-align: right;\n",
       "    }\n",
       "</style>\n",
       "<table border=\"1\" class=\"dataframe\">\n",
       "  <thead>\n",
       "    <tr style=\"text-align: right;\">\n",
       "      <th></th>\n",
       "      <th>A</th>\n",
       "      <th>B</th>\n",
       "      <th>C</th>\n",
       "      <th>D</th>\n",
       "    </tr>\n",
       "  </thead>\n",
       "  <tbody>\n",
       "    <tr>\n",
       "      <th>2020-02-06</th>\n",
       "      <td>-0.499077</td>\n",
       "      <td>-0.387091</td>\n",
       "      <td>-0.172582</td>\n",
       "      <td>1.457392</td>\n",
       "    </tr>\n",
       "    <tr>\n",
       "      <th>2020-02-07</th>\n",
       "      <td>-1.696032</td>\n",
       "      <td>0.428707</td>\n",
       "      <td>-2.086388</td>\n",
       "      <td>1.265555</td>\n",
       "    </tr>\n",
       "    <tr>\n",
       "      <th>2020-02-08</th>\n",
       "      <td>0.062527</td>\n",
       "      <td>-0.750839</td>\n",
       "      <td>-1.636388</td>\n",
       "      <td>0.251421</td>\n",
       "    </tr>\n",
       "    <tr>\n",
       "      <th>2020-02-09</th>\n",
       "      <td>0.005588</td>\n",
       "      <td>-2.938119</td>\n",
       "      <td>0.369765</td>\n",
       "      <td>0.293339</td>\n",
       "    </tr>\n",
       "    <tr>\n",
       "      <th>2020-02-10</th>\n",
       "      <td>-2.048418</td>\n",
       "      <td>1.131347</td>\n",
       "      <td>0.092944</td>\n",
       "      <td>-0.337887</td>\n",
       "    </tr>\n",
       "    <tr>\n",
       "      <th>2020-02-11</th>\n",
       "      <td>-0.092641</td>\n",
       "      <td>1.311619</td>\n",
       "      <td>2.390918</td>\n",
       "      <td>0.262432</td>\n",
       "    </tr>\n",
       "  </tbody>\n",
       "</table>\n",
       "</div>"
      ],
      "text/plain": [
       "                   A         B         C         D\n",
       "2020-02-06 -0.499077 -0.387091 -0.172582  1.457392\n",
       "2020-02-07 -1.696032  0.428707 -2.086388  1.265555\n",
       "2020-02-08  0.062527 -0.750839 -1.636388  0.251421\n",
       "2020-02-09  0.005588 -2.938119  0.369765  0.293339\n",
       "2020-02-10 -2.048418  1.131347  0.092944 -0.337887\n",
       "2020-02-11 -0.092641  1.311619  2.390918  0.262432"
      ]
     },
     "execution_count": 30,
     "metadata": {},
     "output_type": "execute_result"
    }
   ],
   "source": [
    "df[(df['A'] != 1)]"
   ]
  },
  {
   "cell_type": "code",
   "execution_count": 146,
   "metadata": {},
   "outputs": [
    {
     "data": {
      "text/html": [
       "<div>\n",
       "<style scoped>\n",
       "    .dataframe tbody tr th:only-of-type {\n",
       "        vertical-align: middle;\n",
       "    }\n",
       "\n",
       "    .dataframe tbody tr th {\n",
       "        vertical-align: top;\n",
       "    }\n",
       "\n",
       "    .dataframe thead th {\n",
       "        text-align: right;\n",
       "    }\n",
       "</style>\n",
       "<table border=\"1\" class=\"dataframe\">\n",
       "  <thead>\n",
       "    <tr style=\"text-align: right;\">\n",
       "      <th></th>\n",
       "      <th>A</th>\n",
       "      <th>B</th>\n",
       "      <th>C</th>\n",
       "      <th>D</th>\n",
       "    </tr>\n",
       "  </thead>\n",
       "  <tbody>\n",
       "    <tr>\n",
       "      <th>2020-02-07</th>\n",
       "      <td>1.109557</td>\n",
       "      <td>-0.037919</td>\n",
       "      <td>0.542186</td>\n",
       "      <td>0.120362</td>\n",
       "    </tr>\n",
       "    <tr>\n",
       "      <th>2020-02-08</th>\n",
       "      <td>1.404606</td>\n",
       "      <td>0.337755</td>\n",
       "      <td>0.324568</td>\n",
       "      <td>0.564525</td>\n",
       "    </tr>\n",
       "    <tr>\n",
       "      <th>2020-02-10</th>\n",
       "      <td>1.480049</td>\n",
       "      <td>1.549259</td>\n",
       "      <td>1.045467</td>\n",
       "      <td>0.375992</td>\n",
       "    </tr>\n",
       "    <tr>\n",
       "      <th>2020-02-11</th>\n",
       "      <td>1.014439</td>\n",
       "      <td>1.233132</td>\n",
       "      <td>-0.820739</td>\n",
       "      <td>-0.058877</td>\n",
       "    </tr>\n",
       "  </tbody>\n",
       "</table>\n",
       "</div>"
      ],
      "text/plain": [
       "                   A         B         C         D\n",
       "2020-02-07  1.109557 -0.037919  0.542186  0.120362\n",
       "2020-02-08  1.404606  0.337755  0.324568  0.564525\n",
       "2020-02-10  1.480049  1.549259  1.045467  0.375992\n",
       "2020-02-11  1.014439  1.233132 -0.820739 -0.058877"
      ]
     },
     "execution_count": 146,
     "metadata": {},
     "output_type": "execute_result"
    }
   ],
   "source": [
    "df[(df['A']> 1) | (df['B']> 1)]"
   ]
  },
  {
   "cell_type": "code",
   "execution_count": 147,
   "metadata": {},
   "outputs": [
    {
     "data": {
      "text/html": [
       "<div>\n",
       "<style scoped>\n",
       "    .dataframe tbody tr th:only-of-type {\n",
       "        vertical-align: middle;\n",
       "    }\n",
       "\n",
       "    .dataframe tbody tr th {\n",
       "        vertical-align: top;\n",
       "    }\n",
       "\n",
       "    .dataframe thead th {\n",
       "        text-align: right;\n",
       "    }\n",
       "</style>\n",
       "<table border=\"1\" class=\"dataframe\">\n",
       "  <thead>\n",
       "    <tr style=\"text-align: right;\">\n",
       "      <th></th>\n",
       "      <th>A</th>\n",
       "      <th>B</th>\n",
       "      <th>C</th>\n",
       "      <th>D</th>\n",
       "    </tr>\n",
       "  </thead>\n",
       "  <tbody>\n",
       "    <tr>\n",
       "      <th>2020-02-06</th>\n",
       "      <td>0.298379</td>\n",
       "      <td>0.760788</td>\n",
       "      <td>1.399551</td>\n",
       "      <td>0.617257</td>\n",
       "    </tr>\n",
       "    <tr>\n",
       "      <th>2020-02-07</th>\n",
       "      <td>1.109557</td>\n",
       "      <td>NaN</td>\n",
       "      <td>0.542186</td>\n",
       "      <td>0.120362</td>\n",
       "    </tr>\n",
       "    <tr>\n",
       "      <th>2020-02-08</th>\n",
       "      <td>1.404606</td>\n",
       "      <td>0.337755</td>\n",
       "      <td>0.324568</td>\n",
       "      <td>0.564525</td>\n",
       "    </tr>\n",
       "    <tr>\n",
       "      <th>2020-02-09</th>\n",
       "      <td>NaN</td>\n",
       "      <td>0.102771</td>\n",
       "      <td>NaN</td>\n",
       "      <td>NaN</td>\n",
       "    </tr>\n",
       "    <tr>\n",
       "      <th>2020-02-10</th>\n",
       "      <td>1.480049</td>\n",
       "      <td>1.549259</td>\n",
       "      <td>1.045467</td>\n",
       "      <td>0.375992</td>\n",
       "    </tr>\n",
       "    <tr>\n",
       "      <th>2020-02-11</th>\n",
       "      <td>1.014439</td>\n",
       "      <td>1.233132</td>\n",
       "      <td>NaN</td>\n",
       "      <td>NaN</td>\n",
       "    </tr>\n",
       "  </tbody>\n",
       "</table>\n",
       "</div>"
      ],
      "text/plain": [
       "                   A         B         C         D\n",
       "2020-02-06  0.298379  0.760788  1.399551  0.617257\n",
       "2020-02-07  1.109557       NaN  0.542186  0.120362\n",
       "2020-02-08  1.404606  0.337755  0.324568  0.564525\n",
       "2020-02-09       NaN  0.102771       NaN       NaN\n",
       "2020-02-10  1.480049  1.549259  1.045467  0.375992\n",
       "2020-02-11  1.014439  1.233132       NaN       NaN"
      ]
     },
     "execution_count": 147,
     "metadata": {},
     "output_type": "execute_result"
    }
   ],
   "source": [
    "df[df > 0]"
   ]
  },
  {
   "cell_type": "code",
   "execution_count": 33,
   "metadata": {},
   "outputs": [
    {
     "data": {
      "text/html": [
       "<div>\n",
       "<style scoped>\n",
       "    .dataframe tbody tr th:only-of-type {\n",
       "        vertical-align: middle;\n",
       "    }\n",
       "\n",
       "    .dataframe tbody tr th {\n",
       "        vertical-align: top;\n",
       "    }\n",
       "\n",
       "    .dataframe thead th {\n",
       "        text-align: right;\n",
       "    }\n",
       "</style>\n",
       "<table border=\"1\" class=\"dataframe\">\n",
       "  <thead>\n",
       "    <tr style=\"text-align: right;\">\n",
       "      <th></th>\n",
       "      <th>A</th>\n",
       "      <th>B</th>\n",
       "      <th>C</th>\n",
       "      <th>D</th>\n",
       "    </tr>\n",
       "  </thead>\n",
       "  <tbody>\n",
       "    <tr>\n",
       "      <th>2020-02-06</th>\n",
       "      <td>-0.499077</td>\n",
       "      <td>-0.387091</td>\n",
       "      <td>-0.172582</td>\n",
       "      <td>1.457392</td>\n",
       "    </tr>\n",
       "    <tr>\n",
       "      <th>2020-02-07</th>\n",
       "      <td>-1.696032</td>\n",
       "      <td>0.428707</td>\n",
       "      <td>-2.086388</td>\n",
       "      <td>1.265555</td>\n",
       "    </tr>\n",
       "    <tr>\n",
       "      <th>2020-02-08</th>\n",
       "      <td>0.062527</td>\n",
       "      <td>-0.750839</td>\n",
       "      <td>-1.636388</td>\n",
       "      <td>0.251421</td>\n",
       "    </tr>\n",
       "    <tr>\n",
       "      <th>2020-02-09</th>\n",
       "      <td>0.005588</td>\n",
       "      <td>-2.938119</td>\n",
       "      <td>0.369765</td>\n",
       "      <td>0.293339</td>\n",
       "    </tr>\n",
       "    <tr>\n",
       "      <th>2020-02-10</th>\n",
       "      <td>-2.048418</td>\n",
       "      <td>1.131347</td>\n",
       "      <td>0.092944</td>\n",
       "      <td>-0.337887</td>\n",
       "    </tr>\n",
       "    <tr>\n",
       "      <th>2020-02-11</th>\n",
       "      <td>-0.092641</td>\n",
       "      <td>1.311619</td>\n",
       "      <td>2.390918</td>\n",
       "      <td>0.262432</td>\n",
       "    </tr>\n",
       "  </tbody>\n",
       "</table>\n",
       "</div>"
      ],
      "text/plain": [
       "                   A         B         C         D\n",
       "2020-02-06 -0.499077 -0.387091 -0.172582  1.457392\n",
       "2020-02-07 -1.696032  0.428707 -2.086388  1.265555\n",
       "2020-02-08  0.062527 -0.750839 -1.636388  0.251421\n",
       "2020-02-09  0.005588 -2.938119  0.369765  0.293339\n",
       "2020-02-10 -2.048418  1.131347  0.092944 -0.337887\n",
       "2020-02-11 -0.092641  1.311619  2.390918  0.262432"
      ]
     },
     "execution_count": 33,
     "metadata": {},
     "output_type": "execute_result"
    }
   ],
   "source": [
    "df2 = df.copy()\n",
    "df2"
   ]
  },
  {
   "cell_type": "code",
   "execution_count": 34,
   "metadata": {},
   "outputs": [
    {
     "data": {
      "text/html": [
       "<div>\n",
       "<style scoped>\n",
       "    .dataframe tbody tr th:only-of-type {\n",
       "        vertical-align: middle;\n",
       "    }\n",
       "\n",
       "    .dataframe tbody tr th {\n",
       "        vertical-align: top;\n",
       "    }\n",
       "\n",
       "    .dataframe thead th {\n",
       "        text-align: right;\n",
       "    }\n",
       "</style>\n",
       "<table border=\"1\" class=\"dataframe\">\n",
       "  <thead>\n",
       "    <tr style=\"text-align: right;\">\n",
       "      <th></th>\n",
       "      <th>A</th>\n",
       "      <th>B</th>\n",
       "      <th>C</th>\n",
       "      <th>D</th>\n",
       "      <th>E</th>\n",
       "    </tr>\n",
       "  </thead>\n",
       "  <tbody>\n",
       "    <tr>\n",
       "      <th>2020-02-06</th>\n",
       "      <td>-0.499077</td>\n",
       "      <td>-0.387091</td>\n",
       "      <td>-0.172582</td>\n",
       "      <td>1.457392</td>\n",
       "      <td>one</td>\n",
       "    </tr>\n",
       "    <tr>\n",
       "      <th>2020-02-07</th>\n",
       "      <td>-1.696032</td>\n",
       "      <td>0.428707</td>\n",
       "      <td>-2.086388</td>\n",
       "      <td>1.265555</td>\n",
       "      <td>two</td>\n",
       "    </tr>\n",
       "    <tr>\n",
       "      <th>2020-02-08</th>\n",
       "      <td>0.062527</td>\n",
       "      <td>-0.750839</td>\n",
       "      <td>-1.636388</td>\n",
       "      <td>0.251421</td>\n",
       "      <td>Three</td>\n",
       "    </tr>\n",
       "    <tr>\n",
       "      <th>2020-02-09</th>\n",
       "      <td>0.005588</td>\n",
       "      <td>-2.938119</td>\n",
       "      <td>0.369765</td>\n",
       "      <td>0.293339</td>\n",
       "      <td>four</td>\n",
       "    </tr>\n",
       "    <tr>\n",
       "      <th>2020-02-10</th>\n",
       "      <td>-2.048418</td>\n",
       "      <td>1.131347</td>\n",
       "      <td>0.092944</td>\n",
       "      <td>-0.337887</td>\n",
       "      <td>fie</td>\n",
       "    </tr>\n",
       "    <tr>\n",
       "      <th>2020-02-11</th>\n",
       "      <td>-0.092641</td>\n",
       "      <td>1.311619</td>\n",
       "      <td>2.390918</td>\n",
       "      <td>0.262432</td>\n",
       "      <td>six</td>\n",
       "    </tr>\n",
       "  </tbody>\n",
       "</table>\n",
       "</div>"
      ],
      "text/plain": [
       "                   A         B         C         D      E\n",
       "2020-02-06 -0.499077 -0.387091 -0.172582  1.457392    one\n",
       "2020-02-07 -1.696032  0.428707 -2.086388  1.265555    two\n",
       "2020-02-08  0.062527 -0.750839 -1.636388  0.251421  Three\n",
       "2020-02-09  0.005588 -2.938119  0.369765  0.293339   four\n",
       "2020-02-10 -2.048418  1.131347  0.092944 -0.337887    fie\n",
       "2020-02-11 -0.092641  1.311619  2.390918  0.262432    six"
      ]
     },
     "execution_count": 34,
     "metadata": {},
     "output_type": "execute_result"
    }
   ],
   "source": [
    "df2['E'] = ['one','two','Three','four','fie','six']\n",
    "df2"
   ]
  },
  {
   "cell_type": "code",
   "execution_count": 166,
   "metadata": {},
   "outputs": [
    {
     "data": {
      "text/html": [
       "<div>\n",
       "<style scoped>\n",
       "    .dataframe tbody tr th:only-of-type {\n",
       "        vertical-align: middle;\n",
       "    }\n",
       "\n",
       "    .dataframe tbody tr th {\n",
       "        vertical-align: top;\n",
       "    }\n",
       "\n",
       "    .dataframe thead th {\n",
       "        text-align: right;\n",
       "    }\n",
       "</style>\n",
       "<table border=\"1\" class=\"dataframe\">\n",
       "  <thead>\n",
       "    <tr style=\"text-align: right;\">\n",
       "      <th></th>\n",
       "      <th>A</th>\n",
       "      <th>B</th>\n",
       "      <th>C</th>\n",
       "      <th>D</th>\n",
       "      <th>E</th>\n",
       "    </tr>\n",
       "  </thead>\n",
       "  <tbody>\n",
       "    <tr>\n",
       "      <th>2020-02-06</th>\n",
       "      <td>0.298379</td>\n",
       "      <td>0.760788</td>\n",
       "      <td>1.399551</td>\n",
       "      <td>0.617257</td>\n",
       "      <td>one</td>\n",
       "    </tr>\n",
       "    <tr>\n",
       "      <th>2020-02-07</th>\n",
       "      <td>1.109557</td>\n",
       "      <td>-0.037919</td>\n",
       "      <td>0.542186</td>\n",
       "      <td>0.120362</td>\n",
       "      <td>two</td>\n",
       "    </tr>\n",
       "    <tr>\n",
       "      <th>2020-02-11</th>\n",
       "      <td>1.014439</td>\n",
       "      <td>1.233132</td>\n",
       "      <td>-0.820739</td>\n",
       "      <td>-0.058877</td>\n",
       "      <td>six</td>\n",
       "    </tr>\n",
       "  </tbody>\n",
       "</table>\n",
       "</div>"
      ],
      "text/plain": [
       "                   A         B         C         D    E\n",
       "2020-02-06  0.298379  0.760788  1.399551  0.617257  one\n",
       "2020-02-07  1.109557 -0.037919  0.542186  0.120362  two\n",
       "2020-02-11  1.014439  1.233132 -0.820739 -0.058877  six"
      ]
     },
     "execution_count": 166,
     "metadata": {},
     "output_type": "execute_result"
    }
   ],
   "source": [
    "df2[df2['E'].isin(['one','two','six'])]"
   ]
  },
  {
   "cell_type": "code",
   "execution_count": 164,
   "metadata": {},
   "outputs": [
    {
     "data": {
      "text/html": [
       "<div>\n",
       "<style scoped>\n",
       "    .dataframe tbody tr th:only-of-type {\n",
       "        vertical-align: middle;\n",
       "    }\n",
       "\n",
       "    .dataframe tbody tr th {\n",
       "        vertical-align: top;\n",
       "    }\n",
       "\n",
       "    .dataframe thead th {\n",
       "        text-align: right;\n",
       "    }\n",
       "</style>\n",
       "<table border=\"1\" class=\"dataframe\">\n",
       "  <thead>\n",
       "    <tr style=\"text-align: right;\">\n",
       "      <th></th>\n",
       "      <th>A</th>\n",
       "      <th>B</th>\n",
       "      <th>C</th>\n",
       "      <th>D</th>\n",
       "      <th>E</th>\n",
       "    </tr>\n",
       "  </thead>\n",
       "  <tbody>\n",
       "    <tr>\n",
       "      <th>2020-02-06</th>\n",
       "      <td>0.298379</td>\n",
       "      <td>0.760788</td>\n",
       "      <td>1.399551</td>\n",
       "      <td>0.617257</td>\n",
       "      <td>one</td>\n",
       "    </tr>\n",
       "    <tr>\n",
       "      <th>2020-02-10</th>\n",
       "      <td>1.480049</td>\n",
       "      <td>1.549259</td>\n",
       "      <td>1.045467</td>\n",
       "      <td>0.375992</td>\n",
       "      <td>fie</td>\n",
       "    </tr>\n",
       "  </tbody>\n",
       "</table>\n",
       "</div>"
      ],
      "text/plain": [
       "                   A         B         C         D    E\n",
       "2020-02-06  0.298379  0.760788  1.399551  0.617257  one\n",
       "2020-02-10  1.480049  1.549259  1.045467  0.375992  fie"
      ]
     },
     "execution_count": 164,
     "metadata": {},
     "output_type": "execute_result"
    }
   ],
   "source": [
    "df2[(df2['E'] == 'one') | (df2['E'] == 'fie')]"
   ]
  },
  {
   "cell_type": "markdown",
   "metadata": {},
   "source": [
    "# Setting"
   ]
  },
  {
   "cell_type": "code",
   "execution_count": 41,
   "metadata": {},
   "outputs": [
    {
     "data": {
      "text/plain": [
       "2020-02-06    1\n",
       "2020-02-07    2\n",
       "2020-02-08    3\n",
       "2020-02-09    4\n",
       "2020-02-10    5\n",
       "2020-02-11    6\n",
       "Freq: D, dtype: int64"
      ]
     },
     "execution_count": 41,
     "metadata": {},
     "output_type": "execute_result"
    }
   ],
   "source": [
    "s1 = pd.Series([1,2,3,4,5,6], index = pd.date_range('2020-02-06',periods=6))\n",
    "s1"
   ]
  },
  {
   "cell_type": "code",
   "execution_count": 42,
   "metadata": {},
   "outputs": [
    {
     "data": {
      "text/html": [
       "<div>\n",
       "<style scoped>\n",
       "    .dataframe tbody tr th:only-of-type {\n",
       "        vertical-align: middle;\n",
       "    }\n",
       "\n",
       "    .dataframe tbody tr th {\n",
       "        vertical-align: top;\n",
       "    }\n",
       "\n",
       "    .dataframe thead th {\n",
       "        text-align: right;\n",
       "    }\n",
       "</style>\n",
       "<table border=\"1\" class=\"dataframe\">\n",
       "  <thead>\n",
       "    <tr style=\"text-align: right;\">\n",
       "      <th></th>\n",
       "      <th>A</th>\n",
       "      <th>B</th>\n",
       "      <th>C</th>\n",
       "      <th>D</th>\n",
       "      <th>E</th>\n",
       "      <th>F</th>\n",
       "    </tr>\n",
       "  </thead>\n",
       "  <tbody>\n",
       "    <tr>\n",
       "      <th>2020-02-06</th>\n",
       "      <td>-0.499077</td>\n",
       "      <td>-0.387091</td>\n",
       "      <td>-0.172582</td>\n",
       "      <td>1.457392</td>\n",
       "      <td>one</td>\n",
       "      <td>1</td>\n",
       "    </tr>\n",
       "    <tr>\n",
       "      <th>2020-02-07</th>\n",
       "      <td>-1.696032</td>\n",
       "      <td>0.428707</td>\n",
       "      <td>-2.086388</td>\n",
       "      <td>1.265555</td>\n",
       "      <td>two</td>\n",
       "      <td>2</td>\n",
       "    </tr>\n",
       "    <tr>\n",
       "      <th>2020-02-08</th>\n",
       "      <td>0.062527</td>\n",
       "      <td>-0.750839</td>\n",
       "      <td>-1.636388</td>\n",
       "      <td>0.251421</td>\n",
       "      <td>Three</td>\n",
       "      <td>3</td>\n",
       "    </tr>\n",
       "    <tr>\n",
       "      <th>2020-02-09</th>\n",
       "      <td>0.005588</td>\n",
       "      <td>-2.938119</td>\n",
       "      <td>0.369765</td>\n",
       "      <td>0.293339</td>\n",
       "      <td>four</td>\n",
       "      <td>4</td>\n",
       "    </tr>\n",
       "    <tr>\n",
       "      <th>2020-02-10</th>\n",
       "      <td>-2.048418</td>\n",
       "      <td>1.131347</td>\n",
       "      <td>0.092944</td>\n",
       "      <td>-0.337887</td>\n",
       "      <td>fie</td>\n",
       "      <td>5</td>\n",
       "    </tr>\n",
       "    <tr>\n",
       "      <th>2020-02-11</th>\n",
       "      <td>-0.092641</td>\n",
       "      <td>1.311619</td>\n",
       "      <td>2.390918</td>\n",
       "      <td>0.262432</td>\n",
       "      <td>six</td>\n",
       "      <td>6</td>\n",
       "    </tr>\n",
       "  </tbody>\n",
       "</table>\n",
       "</div>"
      ],
      "text/plain": [
       "                   A         B         C         D      E  F\n",
       "2020-02-06 -0.499077 -0.387091 -0.172582  1.457392    one  1\n",
       "2020-02-07 -1.696032  0.428707 -2.086388  1.265555    two  2\n",
       "2020-02-08  0.062527 -0.750839 -1.636388  0.251421  Three  3\n",
       "2020-02-09  0.005588 -2.938119  0.369765  0.293339   four  4\n",
       "2020-02-10 -2.048418  1.131347  0.092944 -0.337887    fie  5\n",
       "2020-02-11 -0.092641  1.311619  2.390918  0.262432    six  6"
      ]
     },
     "execution_count": 42,
     "metadata": {},
     "output_type": "execute_result"
    }
   ],
   "source": [
    "df2['F'] =  s1\n",
    "df2"
   ]
  },
  {
   "cell_type": "code",
   "execution_count": 43,
   "metadata": {},
   "outputs": [
    {
     "data": {
      "text/html": [
       "<div>\n",
       "<style scoped>\n",
       "    .dataframe tbody tr th:only-of-type {\n",
       "        vertical-align: middle;\n",
       "    }\n",
       "\n",
       "    .dataframe tbody tr th {\n",
       "        vertical-align: top;\n",
       "    }\n",
       "\n",
       "    .dataframe thead th {\n",
       "        text-align: right;\n",
       "    }\n",
       "</style>\n",
       "<table border=\"1\" class=\"dataframe\">\n",
       "  <thead>\n",
       "    <tr style=\"text-align: right;\">\n",
       "      <th></th>\n",
       "      <th>A</th>\n",
       "      <th>B</th>\n",
       "      <th>C</th>\n",
       "      <th>D</th>\n",
       "    </tr>\n",
       "  </thead>\n",
       "  <tbody>\n",
       "    <tr>\n",
       "      <th>2020-02-06</th>\n",
       "      <td>-0.499077</td>\n",
       "      <td>-0.387091</td>\n",
       "      <td>-0.172582</td>\n",
       "      <td>1.457392</td>\n",
       "    </tr>\n",
       "    <tr>\n",
       "      <th>2020-02-07</th>\n",
       "      <td>-1.696032</td>\n",
       "      <td>0.428707</td>\n",
       "      <td>-2.086388</td>\n",
       "      <td>1.265555</td>\n",
       "    </tr>\n",
       "    <tr>\n",
       "      <th>2020-02-08</th>\n",
       "      <td>0.062527</td>\n",
       "      <td>-0.750839</td>\n",
       "      <td>-1.636388</td>\n",
       "      <td>0.251421</td>\n",
       "    </tr>\n",
       "    <tr>\n",
       "      <th>2020-02-09</th>\n",
       "      <td>0.005588</td>\n",
       "      <td>-2.938119</td>\n",
       "      <td>0.369765</td>\n",
       "      <td>0.293339</td>\n",
       "    </tr>\n",
       "    <tr>\n",
       "      <th>2020-02-10</th>\n",
       "      <td>-2.048418</td>\n",
       "      <td>1.131347</td>\n",
       "      <td>0.092944</td>\n",
       "      <td>-0.337887</td>\n",
       "    </tr>\n",
       "    <tr>\n",
       "      <th>2020-02-11</th>\n",
       "      <td>-0.092641</td>\n",
       "      <td>1.311619</td>\n",
       "      <td>2.390918</td>\n",
       "      <td>0.262432</td>\n",
       "    </tr>\n",
       "  </tbody>\n",
       "</table>\n",
       "</div>"
      ],
      "text/plain": [
       "                   A         B         C         D\n",
       "2020-02-06 -0.499077 -0.387091 -0.172582  1.457392\n",
       "2020-02-07 -1.696032  0.428707 -2.086388  1.265555\n",
       "2020-02-08  0.062527 -0.750839 -1.636388  0.251421\n",
       "2020-02-09  0.005588 -2.938119  0.369765  0.293339\n",
       "2020-02-10 -2.048418  1.131347  0.092944 -0.337887\n",
       "2020-02-11 -0.092641  1.311619  2.390918  0.262432"
      ]
     },
     "execution_count": 43,
     "metadata": {},
     "output_type": "execute_result"
    }
   ],
   "source": [
    "df"
   ]
  },
  {
   "cell_type": "code",
   "execution_count": 44,
   "metadata": {},
   "outputs": [
    {
     "data": {
      "text/html": [
       "<div>\n",
       "<style scoped>\n",
       "    .dataframe tbody tr th:only-of-type {\n",
       "        vertical-align: middle;\n",
       "    }\n",
       "\n",
       "    .dataframe tbody tr th {\n",
       "        vertical-align: top;\n",
       "    }\n",
       "\n",
       "    .dataframe thead th {\n",
       "        text-align: right;\n",
       "    }\n",
       "</style>\n",
       "<table border=\"1\" class=\"dataframe\">\n",
       "  <thead>\n",
       "    <tr style=\"text-align: right;\">\n",
       "      <th></th>\n",
       "      <th>A</th>\n",
       "      <th>B</th>\n",
       "      <th>C</th>\n",
       "      <th>D</th>\n",
       "    </tr>\n",
       "  </thead>\n",
       "  <tbody>\n",
       "    <tr>\n",
       "      <th>2020-02-06</th>\n",
       "      <td>-0.499077</td>\n",
       "      <td>-0.387091</td>\n",
       "      <td>-0.172582</td>\n",
       "      <td>111.000000</td>\n",
       "    </tr>\n",
       "    <tr>\n",
       "      <th>2020-02-07</th>\n",
       "      <td>-1.696032</td>\n",
       "      <td>0.428707</td>\n",
       "      <td>-2.086388</td>\n",
       "      <td>1.265555</td>\n",
       "    </tr>\n",
       "    <tr>\n",
       "      <th>2020-02-08</th>\n",
       "      <td>0.062527</td>\n",
       "      <td>-0.750839</td>\n",
       "      <td>-1.636388</td>\n",
       "      <td>0.251421</td>\n",
       "    </tr>\n",
       "    <tr>\n",
       "      <th>2020-02-09</th>\n",
       "      <td>0.005588</td>\n",
       "      <td>-2.938119</td>\n",
       "      <td>0.369765</td>\n",
       "      <td>0.293339</td>\n",
       "    </tr>\n",
       "    <tr>\n",
       "      <th>2020-02-10</th>\n",
       "      <td>-2.048418</td>\n",
       "      <td>1.131347</td>\n",
       "      <td>0.092944</td>\n",
       "      <td>-0.337887</td>\n",
       "    </tr>\n",
       "    <tr>\n",
       "      <th>2020-02-11</th>\n",
       "      <td>-0.092641</td>\n",
       "      <td>1.311619</td>\n",
       "      <td>2.390918</td>\n",
       "      <td>0.262432</td>\n",
       "    </tr>\n",
       "  </tbody>\n",
       "</table>\n",
       "</div>"
      ],
      "text/plain": [
       "                   A         B         C           D\n",
       "2020-02-06 -0.499077 -0.387091 -0.172582  111.000000\n",
       "2020-02-07 -1.696032  0.428707 -2.086388    1.265555\n",
       "2020-02-08  0.062527 -0.750839 -1.636388    0.251421\n",
       "2020-02-09  0.005588 -2.938119  0.369765    0.293339\n",
       "2020-02-10 -2.048418  1.131347  0.092944   -0.337887\n",
       "2020-02-11 -0.092641  1.311619  2.390918    0.262432"
      ]
     },
     "execution_count": 44,
     "metadata": {},
     "output_type": "execute_result"
    }
   ],
   "source": [
    "df.at[dates[0],'D'] = 111\n",
    "df"
   ]
  },
  {
   "cell_type": "code",
   "execution_count": 45,
   "metadata": {},
   "outputs": [
    {
     "data": {
      "text/html": [
       "<div>\n",
       "<style scoped>\n",
       "    .dataframe tbody tr th:only-of-type {\n",
       "        vertical-align: middle;\n",
       "    }\n",
       "\n",
       "    .dataframe tbody tr th {\n",
       "        vertical-align: top;\n",
       "    }\n",
       "\n",
       "    .dataframe thead th {\n",
       "        text-align: right;\n",
       "    }\n",
       "</style>\n",
       "<table border=\"1\" class=\"dataframe\">\n",
       "  <thead>\n",
       "    <tr style=\"text-align: right;\">\n",
       "      <th></th>\n",
       "      <th>A</th>\n",
       "      <th>B</th>\n",
       "      <th>C</th>\n",
       "      <th>D</th>\n",
       "    </tr>\n",
       "  </thead>\n",
       "  <tbody>\n",
       "    <tr>\n",
       "      <th>2020-02-06</th>\n",
       "      <td>-0.499077</td>\n",
       "      <td>-0.387091</td>\n",
       "      <td>-0.172582</td>\n",
       "      <td>111.000000</td>\n",
       "    </tr>\n",
       "    <tr>\n",
       "      <th>2020-02-07</th>\n",
       "      <td>-1.696032</td>\n",
       "      <td>0.428707</td>\n",
       "      <td>-2.086388</td>\n",
       "      <td>1.265555</td>\n",
       "    </tr>\n",
       "    <tr>\n",
       "      <th>2020-02-08</th>\n",
       "      <td>0.062527</td>\n",
       "      <td>-0.750839</td>\n",
       "      <td>-1.636388</td>\n",
       "      <td>0.251421</td>\n",
       "    </tr>\n",
       "    <tr>\n",
       "      <th>2020-02-09</th>\n",
       "      <td>0.005588</td>\n",
       "      <td>-2.938119</td>\n",
       "      <td>0.369765</td>\n",
       "      <td>200.000000</td>\n",
       "    </tr>\n",
       "    <tr>\n",
       "      <th>2020-02-10</th>\n",
       "      <td>-2.048418</td>\n",
       "      <td>1.131347</td>\n",
       "      <td>0.092944</td>\n",
       "      <td>-0.337887</td>\n",
       "    </tr>\n",
       "    <tr>\n",
       "      <th>2020-02-11</th>\n",
       "      <td>-0.092641</td>\n",
       "      <td>1.311619</td>\n",
       "      <td>2.390918</td>\n",
       "      <td>0.262432</td>\n",
       "    </tr>\n",
       "  </tbody>\n",
       "</table>\n",
       "</div>"
      ],
      "text/plain": [
       "                   A         B         C           D\n",
       "2020-02-06 -0.499077 -0.387091 -0.172582  111.000000\n",
       "2020-02-07 -1.696032  0.428707 -2.086388    1.265555\n",
       "2020-02-08  0.062527 -0.750839 -1.636388    0.251421\n",
       "2020-02-09  0.005588 -2.938119  0.369765  200.000000\n",
       "2020-02-10 -2.048418  1.131347  0.092944   -0.337887\n",
       "2020-02-11 -0.092641  1.311619  2.390918    0.262432"
      ]
     },
     "execution_count": 45,
     "metadata": {},
     "output_type": "execute_result"
    }
   ],
   "source": [
    "df.iloc[3,3] = 200\n",
    "df"
   ]
  },
  {
   "cell_type": "code",
   "execution_count": 46,
   "metadata": {},
   "outputs": [
    {
     "data": {
      "text/html": [
       "<div>\n",
       "<style scoped>\n",
       "    .dataframe tbody tr th:only-of-type {\n",
       "        vertical-align: middle;\n",
       "    }\n",
       "\n",
       "    .dataframe tbody tr th {\n",
       "        vertical-align: top;\n",
       "    }\n",
       "\n",
       "    .dataframe thead th {\n",
       "        text-align: right;\n",
       "    }\n",
       "</style>\n",
       "<table border=\"1\" class=\"dataframe\">\n",
       "  <thead>\n",
       "    <tr style=\"text-align: right;\">\n",
       "      <th></th>\n",
       "      <th>A</th>\n",
       "      <th>B</th>\n",
       "      <th>C</th>\n",
       "      <th>D</th>\n",
       "    </tr>\n",
       "  </thead>\n",
       "  <tbody>\n",
       "    <tr>\n",
       "      <th>2020-02-06</th>\n",
       "      <td>-0.499077</td>\n",
       "      <td>-0.387091</td>\n",
       "      <td>-0.172582</td>\n",
       "      <td>111.000000</td>\n",
       "    </tr>\n",
       "    <tr>\n",
       "      <th>2020-02-07</th>\n",
       "      <td>-1.696032</td>\n",
       "      <td>0.428707</td>\n",
       "      <td>-2.086388</td>\n",
       "      <td>1.265555</td>\n",
       "    </tr>\n",
       "    <tr>\n",
       "      <th>2020-02-08</th>\n",
       "      <td>0.062527</td>\n",
       "      <td>-0.750839</td>\n",
       "      <td>99.000000</td>\n",
       "      <td>0.251421</td>\n",
       "    </tr>\n",
       "    <tr>\n",
       "      <th>2020-02-09</th>\n",
       "      <td>0.005588</td>\n",
       "      <td>-2.938119</td>\n",
       "      <td>0.369765</td>\n",
       "      <td>200.000000</td>\n",
       "    </tr>\n",
       "    <tr>\n",
       "      <th>2020-02-10</th>\n",
       "      <td>-2.048418</td>\n",
       "      <td>1.131347</td>\n",
       "      <td>0.092944</td>\n",
       "      <td>-0.337887</td>\n",
       "    </tr>\n",
       "    <tr>\n",
       "      <th>2020-02-11</th>\n",
       "      <td>-0.092641</td>\n",
       "      <td>1.311619</td>\n",
       "      <td>2.390918</td>\n",
       "      <td>0.262432</td>\n",
       "    </tr>\n",
       "  </tbody>\n",
       "</table>\n",
       "</div>"
      ],
      "text/plain": [
       "                   A         B          C           D\n",
       "2020-02-06 -0.499077 -0.387091  -0.172582  111.000000\n",
       "2020-02-07 -1.696032  0.428707  -2.086388    1.265555\n",
       "2020-02-08  0.062527 -0.750839  99.000000    0.251421\n",
       "2020-02-09  0.005588 -2.938119   0.369765  200.000000\n",
       "2020-02-10 -2.048418  1.131347   0.092944   -0.337887\n",
       "2020-02-11 -0.092641  1.311619   2.390918    0.262432"
      ]
     },
     "execution_count": 46,
     "metadata": {},
     "output_type": "execute_result"
    }
   ],
   "source": [
    "df.iat[2,2] = 99\n",
    "df"
   ]
  },
  {
   "cell_type": "markdown",
   "metadata": {},
   "source": [
    "# Missing Data"
   ]
  },
  {
   "cell_type": "code",
   "execution_count": 123,
   "metadata": {},
   "outputs": [
    {
     "data": {
      "text/html": [
       "<div>\n",
       "<style scoped>\n",
       "    .dataframe tbody tr th:only-of-type {\n",
       "        vertical-align: middle;\n",
       "    }\n",
       "\n",
       "    .dataframe tbody tr th {\n",
       "        vertical-align: top;\n",
       "    }\n",
       "\n",
       "    .dataframe thead th {\n",
       "        text-align: right;\n",
       "    }\n",
       "</style>\n",
       "<table border=\"1\" class=\"dataframe\">\n",
       "  <thead>\n",
       "    <tr style=\"text-align: right;\">\n",
       "      <th></th>\n",
       "      <th>A</th>\n",
       "      <th>B</th>\n",
       "      <th>C</th>\n",
       "      <th>D</th>\n",
       "      <th>E</th>\n",
       "    </tr>\n",
       "  </thead>\n",
       "  <tbody>\n",
       "    <tr>\n",
       "      <th>2020-02-06</th>\n",
       "      <td>-0.499077</td>\n",
       "      <td>-0.387091</td>\n",
       "      <td>-0.172582</td>\n",
       "      <td>111.000000</td>\n",
       "      <td>NaN</td>\n",
       "    </tr>\n",
       "    <tr>\n",
       "      <th>2020-02-07</th>\n",
       "      <td>-1.696032</td>\n",
       "      <td>0.428707</td>\n",
       "      <td>-2.086388</td>\n",
       "      <td>1.265555</td>\n",
       "      <td>NaN</td>\n",
       "    </tr>\n",
       "    <tr>\n",
       "      <th>2020-02-08</th>\n",
       "      <td>0.062527</td>\n",
       "      <td>-0.750839</td>\n",
       "      <td>99.000000</td>\n",
       "      <td>0.251421</td>\n",
       "      <td>NaN</td>\n",
       "    </tr>\n",
       "    <tr>\n",
       "      <th>2020-02-09</th>\n",
       "      <td>0.005588</td>\n",
       "      <td>-2.938119</td>\n",
       "      <td>0.369765</td>\n",
       "      <td>200.000000</td>\n",
       "      <td>NaN</td>\n",
       "    </tr>\n",
       "  </tbody>\n",
       "</table>\n",
       "</div>"
      ],
      "text/plain": [
       "                   A         B          C           D   E\n",
       "2020-02-06 -0.499077 -0.387091  -0.172582  111.000000 NaN\n",
       "2020-02-07 -1.696032  0.428707  -2.086388    1.265555 NaN\n",
       "2020-02-08  0.062527 -0.750839  99.000000    0.251421 NaN\n",
       "2020-02-09  0.005588 -2.938119   0.369765  200.000000 NaN"
      ]
     },
     "execution_count": 123,
     "metadata": {},
     "output_type": "execute_result"
    }
   ],
   "source": [
    "df1 =  df.reindex(index=dates[0:4],columns=list(df.columns) + ['E'])\n",
    "df1"
   ]
  },
  {
   "cell_type": "code",
   "execution_count": 93,
   "metadata": {},
   "outputs": [
    {
     "data": {
      "text/plain": [
       "-0.4990768892478454"
      ]
     },
     "execution_count": 93,
     "metadata": {},
     "output_type": "execute_result"
    }
   ],
   "source": [
    "df1.loc['2020-02-06','A']"
   ]
  },
  {
   "cell_type": "code",
   "execution_count": 124,
   "metadata": {},
   "outputs": [
    {
     "data": {
      "text/html": [
       "<div>\n",
       "<style scoped>\n",
       "    .dataframe tbody tr th:only-of-type {\n",
       "        vertical-align: middle;\n",
       "    }\n",
       "\n",
       "    .dataframe tbody tr th {\n",
       "        vertical-align: top;\n",
       "    }\n",
       "\n",
       "    .dataframe thead th {\n",
       "        text-align: right;\n",
       "    }\n",
       "</style>\n",
       "<table border=\"1\" class=\"dataframe\">\n",
       "  <thead>\n",
       "    <tr style=\"text-align: right;\">\n",
       "      <th></th>\n",
       "      <th>A</th>\n",
       "      <th>B</th>\n",
       "      <th>C</th>\n",
       "      <th>D</th>\n",
       "      <th>E</th>\n",
       "    </tr>\n",
       "  </thead>\n",
       "  <tbody>\n",
       "    <tr>\n",
       "      <th>2020-02-06</th>\n",
       "      <td>1.000000</td>\n",
       "      <td>-0.387091</td>\n",
       "      <td>-0.172582</td>\n",
       "      <td>111.000000</td>\n",
       "      <td>1.0</td>\n",
       "    </tr>\n",
       "    <tr>\n",
       "      <th>2020-02-07</th>\n",
       "      <td>-1.696032</td>\n",
       "      <td>0.428707</td>\n",
       "      <td>-2.086388</td>\n",
       "      <td>1.265555</td>\n",
       "      <td>NaN</td>\n",
       "    </tr>\n",
       "    <tr>\n",
       "      <th>2020-02-08</th>\n",
       "      <td>0.062527</td>\n",
       "      <td>-0.750839</td>\n",
       "      <td>99.000000</td>\n",
       "      <td>0.251421</td>\n",
       "      <td>NaN</td>\n",
       "    </tr>\n",
       "    <tr>\n",
       "      <th>2020-02-09</th>\n",
       "      <td>0.005588</td>\n",
       "      <td>-2.938119</td>\n",
       "      <td>0.369765</td>\n",
       "      <td>200.000000</td>\n",
       "      <td>NaN</td>\n",
       "    </tr>\n",
       "  </tbody>\n",
       "</table>\n",
       "</div>"
      ],
      "text/plain": [
       "                   A         B          C           D    E\n",
       "2020-02-06  1.000000 -0.387091  -0.172582  111.000000  1.0\n",
       "2020-02-07 -1.696032  0.428707  -2.086388    1.265555  NaN\n",
       "2020-02-08  0.062527 -0.750839  99.000000    0.251421  NaN\n",
       "2020-02-09  0.005588 -2.938119   0.369765  200.000000  NaN"
      ]
     },
     "execution_count": 124,
     "metadata": {},
     "output_type": "execute_result"
    }
   ],
   "source": [
    "df1.loc['2020-02-06',['E','A']] = 1\n",
    "df1"
   ]
  },
  {
   "cell_type": "code",
   "execution_count": 76,
   "metadata": {},
   "outputs": [
    {
     "data": {
      "text/html": [
       "<div>\n",
       "<style scoped>\n",
       "    .dataframe tbody tr th:only-of-type {\n",
       "        vertical-align: middle;\n",
       "    }\n",
       "\n",
       "    .dataframe tbody tr th {\n",
       "        vertical-align: top;\n",
       "    }\n",
       "\n",
       "    .dataframe thead th {\n",
       "        text-align: right;\n",
       "    }\n",
       "</style>\n",
       "<table border=\"1\" class=\"dataframe\">\n",
       "  <thead>\n",
       "    <tr style=\"text-align: right;\">\n",
       "      <th></th>\n",
       "      <th>A</th>\n",
       "      <th>B</th>\n",
       "      <th>C</th>\n",
       "      <th>D</th>\n",
       "      <th>E</th>\n",
       "    </tr>\n",
       "  </thead>\n",
       "  <tbody>\n",
       "    <tr>\n",
       "      <th>2020-02-06</th>\n",
       "      <td>1.0</td>\n",
       "      <td>-0.387091</td>\n",
       "      <td>-0.172582</td>\n",
       "      <td>111.0</td>\n",
       "      <td>1.0</td>\n",
       "    </tr>\n",
       "  </tbody>\n",
       "</table>\n",
       "</div>"
      ],
      "text/plain": [
       "              A         B         C      D    E\n",
       "2020-02-06  1.0 -0.387091 -0.172582  111.0  1.0"
      ]
     },
     "execution_count": 76,
     "metadata": {},
     "output_type": "execute_result"
    }
   ],
   "source": [
    "df1.dropna(axis = 0,how='any',inplace=True)\n",
    "df1"
   ]
  },
  {
   "cell_type": "code",
   "execution_count": 126,
   "metadata": {},
   "outputs": [
    {
     "data": {
      "text/html": [
       "<div>\n",
       "<style scoped>\n",
       "    .dataframe tbody tr th:only-of-type {\n",
       "        vertical-align: middle;\n",
       "    }\n",
       "\n",
       "    .dataframe tbody tr th {\n",
       "        vertical-align: top;\n",
       "    }\n",
       "\n",
       "    .dataframe thead th {\n",
       "        text-align: right;\n",
       "    }\n",
       "</style>\n",
       "<table border=\"1\" class=\"dataframe\">\n",
       "  <thead>\n",
       "    <tr style=\"text-align: right;\">\n",
       "      <th></th>\n",
       "      <th>A</th>\n",
       "      <th>B</th>\n",
       "      <th>C</th>\n",
       "      <th>D</th>\n",
       "      <th>E</th>\n",
       "    </tr>\n",
       "  </thead>\n",
       "  <tbody>\n",
       "    <tr>\n",
       "      <th>2020-02-06</th>\n",
       "      <td>1.000000</td>\n",
       "      <td>-0.387091</td>\n",
       "      <td>-0.172582</td>\n",
       "      <td>111.000000</td>\n",
       "      <td>1.0</td>\n",
       "    </tr>\n",
       "    <tr>\n",
       "      <th>2020-02-07</th>\n",
       "      <td>-1.696032</td>\n",
       "      <td>0.428707</td>\n",
       "      <td>-2.086388</td>\n",
       "      <td>1.265555</td>\n",
       "      <td>4.0</td>\n",
       "    </tr>\n",
       "    <tr>\n",
       "      <th>2020-02-08</th>\n",
       "      <td>0.062527</td>\n",
       "      <td>-0.750839</td>\n",
       "      <td>99.000000</td>\n",
       "      <td>0.251421</td>\n",
       "      <td>4.0</td>\n",
       "    </tr>\n",
       "    <tr>\n",
       "      <th>2020-02-09</th>\n",
       "      <td>0.005588</td>\n",
       "      <td>-2.938119</td>\n",
       "      <td>0.369765</td>\n",
       "      <td>200.000000</td>\n",
       "      <td>4.0</td>\n",
       "    </tr>\n",
       "  </tbody>\n",
       "</table>\n",
       "</div>"
      ],
      "text/plain": [
       "                   A         B          C           D    E\n",
       "2020-02-06  1.000000 -0.387091  -0.172582  111.000000  1.0\n",
       "2020-02-07 -1.696032  0.428707  -2.086388    1.265555  4.0\n",
       "2020-02-08  0.062527 -0.750839  99.000000    0.251421  4.0\n",
       "2020-02-09  0.005588 -2.938119   0.369765  200.000000  4.0"
      ]
     },
     "execution_count": 126,
     "metadata": {},
     "output_type": "execute_result"
    }
   ],
   "source": [
    "df1.fillna(value = 4  , inplace = True)\n",
    "df1"
   ]
  },
  {
   "cell_type": "code",
   "execution_count": 99,
   "metadata": {},
   "outputs": [
    {
     "data": {
      "text/html": [
       "<div>\n",
       "<style scoped>\n",
       "    .dataframe tbody tr th:only-of-type {\n",
       "        vertical-align: middle;\n",
       "    }\n",
       "\n",
       "    .dataframe tbody tr th {\n",
       "        vertical-align: top;\n",
       "    }\n",
       "\n",
       "    .dataframe thead th {\n",
       "        text-align: right;\n",
       "    }\n",
       "</style>\n",
       "<table border=\"1\" class=\"dataframe\">\n",
       "  <thead>\n",
       "    <tr style=\"text-align: right;\">\n",
       "      <th></th>\n",
       "      <th>A</th>\n",
       "      <th>B</th>\n",
       "      <th>C</th>\n",
       "      <th>D</th>\n",
       "      <th>E</th>\n",
       "    </tr>\n",
       "  </thead>\n",
       "  <tbody>\n",
       "    <tr>\n",
       "      <th>2020-02-06</th>\n",
       "      <td>False</td>\n",
       "      <td>False</td>\n",
       "      <td>False</td>\n",
       "      <td>False</td>\n",
       "      <td>False</td>\n",
       "    </tr>\n",
       "    <tr>\n",
       "      <th>2020-02-07</th>\n",
       "      <td>False</td>\n",
       "      <td>False</td>\n",
       "      <td>False</td>\n",
       "      <td>False</td>\n",
       "      <td>True</td>\n",
       "    </tr>\n",
       "    <tr>\n",
       "      <th>2020-02-08</th>\n",
       "      <td>False</td>\n",
       "      <td>False</td>\n",
       "      <td>False</td>\n",
       "      <td>False</td>\n",
       "      <td>True</td>\n",
       "    </tr>\n",
       "    <tr>\n",
       "      <th>2020-02-09</th>\n",
       "      <td>False</td>\n",
       "      <td>False</td>\n",
       "      <td>False</td>\n",
       "      <td>False</td>\n",
       "      <td>True</td>\n",
       "    </tr>\n",
       "  </tbody>\n",
       "</table>\n",
       "</div>"
      ],
      "text/plain": [
       "                A      B      C      D      E\n",
       "2020-02-06  False  False  False  False  False\n",
       "2020-02-07  False  False  False  False   True\n",
       "2020-02-08  False  False  False  False   True\n",
       "2020-02-09  False  False  False  False   True"
      ]
     },
     "execution_count": 99,
     "metadata": {},
     "output_type": "execute_result"
    }
   ],
   "source": [
    "pd.isna(df1)"
   ]
  },
  {
   "cell_type": "markdown",
   "metadata": {},
   "source": [
    "# Operations"
   ]
  },
  {
   "cell_type": "code",
   "execution_count": 100,
   "metadata": {},
   "outputs": [
    {
     "data": {
      "text/html": [
       "<div>\n",
       "<style scoped>\n",
       "    .dataframe tbody tr th:only-of-type {\n",
       "        vertical-align: middle;\n",
       "    }\n",
       "\n",
       "    .dataframe tbody tr th {\n",
       "        vertical-align: top;\n",
       "    }\n",
       "\n",
       "    .dataframe thead th {\n",
       "        text-align: right;\n",
       "    }\n",
       "</style>\n",
       "<table border=\"1\" class=\"dataframe\">\n",
       "  <thead>\n",
       "    <tr style=\"text-align: right;\">\n",
       "      <th></th>\n",
       "      <th>A</th>\n",
       "      <th>B</th>\n",
       "      <th>C</th>\n",
       "      <th>D</th>\n",
       "    </tr>\n",
       "  </thead>\n",
       "  <tbody>\n",
       "    <tr>\n",
       "      <th>2020-02-06</th>\n",
       "      <td>-0.499077</td>\n",
       "      <td>-0.387091</td>\n",
       "      <td>-0.172582</td>\n",
       "      <td>111.000000</td>\n",
       "    </tr>\n",
       "    <tr>\n",
       "      <th>2020-02-07</th>\n",
       "      <td>-1.696032</td>\n",
       "      <td>0.428707</td>\n",
       "      <td>-2.086388</td>\n",
       "      <td>1.265555</td>\n",
       "    </tr>\n",
       "    <tr>\n",
       "      <th>2020-02-08</th>\n",
       "      <td>0.062527</td>\n",
       "      <td>-0.750839</td>\n",
       "      <td>99.000000</td>\n",
       "      <td>0.251421</td>\n",
       "    </tr>\n",
       "    <tr>\n",
       "      <th>2020-02-09</th>\n",
       "      <td>0.005588</td>\n",
       "      <td>-2.938119</td>\n",
       "      <td>0.369765</td>\n",
       "      <td>200.000000</td>\n",
       "    </tr>\n",
       "    <tr>\n",
       "      <th>2020-02-10</th>\n",
       "      <td>-2.048418</td>\n",
       "      <td>1.131347</td>\n",
       "      <td>0.092944</td>\n",
       "      <td>-0.337887</td>\n",
       "    </tr>\n",
       "    <tr>\n",
       "      <th>2020-02-11</th>\n",
       "      <td>-0.092641</td>\n",
       "      <td>1.311619</td>\n",
       "      <td>2.390918</td>\n",
       "      <td>0.262432</td>\n",
       "    </tr>\n",
       "  </tbody>\n",
       "</table>\n",
       "</div>"
      ],
      "text/plain": [
       "                   A         B          C           D\n",
       "2020-02-06 -0.499077 -0.387091  -0.172582  111.000000\n",
       "2020-02-07 -1.696032  0.428707  -2.086388    1.265555\n",
       "2020-02-08  0.062527 -0.750839  99.000000    0.251421\n",
       "2020-02-09  0.005588 -2.938119   0.369765  200.000000\n",
       "2020-02-10 -2.048418  1.131347   0.092944   -0.337887\n",
       "2020-02-11 -0.092641  1.311619   2.390918    0.262432"
      ]
     },
     "execution_count": 100,
     "metadata": {},
     "output_type": "execute_result"
    }
   ],
   "source": [
    "df"
   ]
  },
  {
   "cell_type": "code",
   "execution_count": 101,
   "metadata": {},
   "outputs": [
    {
     "data": {
      "text/plain": [
       "A    -0.711342\n",
       "B    -0.200729\n",
       "C    16.599110\n",
       "D    52.073587\n",
       "dtype: float64"
      ]
     },
     "execution_count": 101,
     "metadata": {},
     "output_type": "execute_result"
    }
   ],
   "source": [
    "df.mean()"
   ]
  },
  {
   "cell_type": "code",
   "execution_count": 107,
   "metadata": {},
   "outputs": [
    {
     "data": {
      "text/plain": [
       "2020-02-06    27.485312\n",
       "2020-02-07    -0.522039\n",
       "2020-02-08    24.640777\n",
       "2020-02-09    49.359309\n",
       "2020-02-10    -0.290503\n",
       "2020-02-11     0.968082\n",
       "Freq: D, dtype: float64"
      ]
     },
     "execution_count": 107,
     "metadata": {},
     "output_type": "execute_result"
    }
   ],
   "source": [
    "df.mean(axis=1)"
   ]
  },
  {
   "cell_type": "code",
   "execution_count": 108,
   "metadata": {},
   "outputs": [
    {
     "data": {
      "text/html": [
       "<div>\n",
       "<style scoped>\n",
       "    .dataframe tbody tr th:only-of-type {\n",
       "        vertical-align: middle;\n",
       "    }\n",
       "\n",
       "    .dataframe tbody tr th {\n",
       "        vertical-align: top;\n",
       "    }\n",
       "\n",
       "    .dataframe thead th {\n",
       "        text-align: right;\n",
       "    }\n",
       "</style>\n",
       "<table border=\"1\" class=\"dataframe\">\n",
       "  <thead>\n",
       "    <tr style=\"text-align: right;\">\n",
       "      <th></th>\n",
       "      <th>A</th>\n",
       "      <th>B</th>\n",
       "      <th>C</th>\n",
       "      <th>D</th>\n",
       "    </tr>\n",
       "  </thead>\n",
       "  <tbody>\n",
       "    <tr>\n",
       "      <th>2020-02-06</th>\n",
       "      <td>-0.499077</td>\n",
       "      <td>-0.387091</td>\n",
       "      <td>-0.172582</td>\n",
       "      <td>111.000000</td>\n",
       "    </tr>\n",
       "    <tr>\n",
       "      <th>2020-02-07</th>\n",
       "      <td>-1.696032</td>\n",
       "      <td>0.428707</td>\n",
       "      <td>-2.086388</td>\n",
       "      <td>1.265555</td>\n",
       "    </tr>\n",
       "    <tr>\n",
       "      <th>2020-02-08</th>\n",
       "      <td>0.062527</td>\n",
       "      <td>-0.750839</td>\n",
       "      <td>99.000000</td>\n",
       "      <td>0.251421</td>\n",
       "    </tr>\n",
       "    <tr>\n",
       "      <th>2020-02-09</th>\n",
       "      <td>0.005588</td>\n",
       "      <td>-2.938119</td>\n",
       "      <td>0.369765</td>\n",
       "      <td>200.000000</td>\n",
       "    </tr>\n",
       "    <tr>\n",
       "      <th>2020-02-10</th>\n",
       "      <td>-2.048418</td>\n",
       "      <td>1.131347</td>\n",
       "      <td>0.092944</td>\n",
       "      <td>-0.337887</td>\n",
       "    </tr>\n",
       "    <tr>\n",
       "      <th>2020-02-11</th>\n",
       "      <td>-0.092641</td>\n",
       "      <td>1.311619</td>\n",
       "      <td>2.390918</td>\n",
       "      <td>0.262432</td>\n",
       "    </tr>\n",
       "  </tbody>\n",
       "</table>\n",
       "</div>"
      ],
      "text/plain": [
       "                   A         B          C           D\n",
       "2020-02-06 -0.499077 -0.387091  -0.172582  111.000000\n",
       "2020-02-07 -1.696032  0.428707  -2.086388    1.265555\n",
       "2020-02-08  0.062527 -0.750839  99.000000    0.251421\n",
       "2020-02-09  0.005588 -2.938119   0.369765  200.000000\n",
       "2020-02-10 -2.048418  1.131347   0.092944   -0.337887\n",
       "2020-02-11 -0.092641  1.311619   2.390918    0.262432"
      ]
     },
     "execution_count": 108,
     "metadata": {},
     "output_type": "execute_result"
    }
   ],
   "source": [
    "df"
   ]
  },
  {
   "cell_type": "code",
   "execution_count": 109,
   "metadata": {},
   "outputs": [
    {
     "data": {
      "text/html": [
       "<div>\n",
       "<style scoped>\n",
       "    .dataframe tbody tr th:only-of-type {\n",
       "        vertical-align: middle;\n",
       "    }\n",
       "\n",
       "    .dataframe tbody tr th {\n",
       "        vertical-align: top;\n",
       "    }\n",
       "\n",
       "    .dataframe thead th {\n",
       "        text-align: right;\n",
       "    }\n",
       "</style>\n",
       "<table border=\"1\" class=\"dataframe\">\n",
       "  <thead>\n",
       "    <tr style=\"text-align: right;\">\n",
       "      <th></th>\n",
       "      <th>A</th>\n",
       "      <th>B</th>\n",
       "      <th>C</th>\n",
       "      <th>D</th>\n",
       "    </tr>\n",
       "  </thead>\n",
       "  <tbody>\n",
       "    <tr>\n",
       "      <th>2020-02-06</th>\n",
       "      <td>-0.499077</td>\n",
       "      <td>-0.387091</td>\n",
       "      <td>-0.172582</td>\n",
       "      <td>111.000000</td>\n",
       "    </tr>\n",
       "    <tr>\n",
       "      <th>2020-02-07</th>\n",
       "      <td>-2.195109</td>\n",
       "      <td>0.041616</td>\n",
       "      <td>-2.258970</td>\n",
       "      <td>112.265555</td>\n",
       "    </tr>\n",
       "    <tr>\n",
       "      <th>2020-02-08</th>\n",
       "      <td>-2.132582</td>\n",
       "      <td>-0.709223</td>\n",
       "      <td>96.741030</td>\n",
       "      <td>112.516976</td>\n",
       "    </tr>\n",
       "    <tr>\n",
       "      <th>2020-02-09</th>\n",
       "      <td>-2.126994</td>\n",
       "      <td>-3.647342</td>\n",
       "      <td>97.110795</td>\n",
       "      <td>312.516976</td>\n",
       "    </tr>\n",
       "    <tr>\n",
       "      <th>2020-02-10</th>\n",
       "      <td>-4.175412</td>\n",
       "      <td>-2.515996</td>\n",
       "      <td>97.203740</td>\n",
       "      <td>312.179088</td>\n",
       "    </tr>\n",
       "    <tr>\n",
       "      <th>2020-02-11</th>\n",
       "      <td>-4.268053</td>\n",
       "      <td>-1.204377</td>\n",
       "      <td>99.594658</td>\n",
       "      <td>312.441520</td>\n",
       "    </tr>\n",
       "  </tbody>\n",
       "</table>\n",
       "</div>"
      ],
      "text/plain": [
       "                   A         B          C           D\n",
       "2020-02-06 -0.499077 -0.387091  -0.172582  111.000000\n",
       "2020-02-07 -2.195109  0.041616  -2.258970  112.265555\n",
       "2020-02-08 -2.132582 -0.709223  96.741030  112.516976\n",
       "2020-02-09 -2.126994 -3.647342  97.110795  312.516976\n",
       "2020-02-10 -4.175412 -2.515996  97.203740  312.179088\n",
       "2020-02-11 -4.268053 -1.204377  99.594658  312.441520"
      ]
     },
     "execution_count": 109,
     "metadata": {},
     "output_type": "execute_result"
    }
   ],
   "source": [
    "df.apply(np.cumsum)"
   ]
  },
  {
   "cell_type": "markdown",
   "metadata": {},
   "source": [
    "# Histogramming"
   ]
  },
  {
   "cell_type": "code",
   "execution_count": 114,
   "metadata": {},
   "outputs": [
    {
     "data": {
      "text/plain": [
       "0    2\n",
       "dtype: int32"
      ]
     },
     "execution_count": 114,
     "metadata": {},
     "output_type": "execute_result"
    }
   ],
   "source": [
    "s= pd.Series(np.random.randint(0,7,1))\n",
    "s"
   ]
  },
  {
   "cell_type": "code",
   "execution_count": 113,
   "metadata": {},
   "outputs": [
    {
     "data": {
      "text/plain": [
       "5    1\n",
       "dtype: int64"
      ]
     },
     "execution_count": 113,
     "metadata": {},
     "output_type": "execute_result"
    }
   ],
   "source": [
    "s.value_counts()"
   ]
  },
  {
   "cell_type": "code",
   "execution_count": 132,
   "metadata": {},
   "outputs": [
    {
     "data": {
      "text/plain": [
       "0     Another\n",
       "1     Kambala\n",
       "2      breaks\n",
       "3    Srinivas\n",
       "4      record\n",
       "dtype: object"
      ]
     },
     "execution_count": 132,
     "metadata": {},
     "output_type": "execute_result"
    }
   ],
   "source": [
    "s = pd.Series(['Another', 'Kambala','breaks','Srinivas','record'])\n",
    "s"
   ]
  },
  {
   "cell_type": "code",
   "execution_count": 133,
   "metadata": {},
   "outputs": [
    {
     "data": {
      "text/plain": [
       "0     another\n",
       "1     kambala\n",
       "2      breaks\n",
       "3    srinivas\n",
       "4      record\n",
       "dtype: object"
      ]
     },
     "execution_count": 133,
     "metadata": {},
     "output_type": "execute_result"
    }
   ],
   "source": [
    "s.str.lower()"
   ]
  },
  {
   "cell_type": "markdown",
   "metadata": {},
   "source": [
    "# Merge"
   ]
  },
  {
   "cell_type": "code",
   "execution_count": 144,
   "metadata": {},
   "outputs": [
    {
     "data": {
      "text/html": [
       "<div>\n",
       "<style scoped>\n",
       "    .dataframe tbody tr th:only-of-type {\n",
       "        vertical-align: middle;\n",
       "    }\n",
       "\n",
       "    .dataframe tbody tr th {\n",
       "        vertical-align: top;\n",
       "    }\n",
       "\n",
       "    .dataframe thead th {\n",
       "        text-align: right;\n",
       "    }\n",
       "</style>\n",
       "<table border=\"1\" class=\"dataframe\">\n",
       "  <thead>\n",
       "    <tr style=\"text-align: right;\">\n",
       "      <th></th>\n",
       "      <th>0</th>\n",
       "      <th>1</th>\n",
       "      <th>2</th>\n",
       "      <th>3</th>\n",
       "    </tr>\n",
       "  </thead>\n",
       "  <tbody>\n",
       "    <tr>\n",
       "      <th>0</th>\n",
       "      <td>-0.876025</td>\n",
       "      <td>-0.317222</td>\n",
       "      <td>1.044329</td>\n",
       "      <td>-0.032868</td>\n",
       "    </tr>\n",
       "    <tr>\n",
       "      <th>1</th>\n",
       "      <td>0.199071</td>\n",
       "      <td>0.610536</td>\n",
       "      <td>0.465883</td>\n",
       "      <td>-1.019436</td>\n",
       "    </tr>\n",
       "    <tr>\n",
       "      <th>2</th>\n",
       "      <td>0.766306</td>\n",
       "      <td>1.387282</td>\n",
       "      <td>-0.058706</td>\n",
       "      <td>1.210806</td>\n",
       "    </tr>\n",
       "    <tr>\n",
       "      <th>3</th>\n",
       "      <td>-0.657589</td>\n",
       "      <td>1.449401</td>\n",
       "      <td>-0.922864</td>\n",
       "      <td>-1.281216</td>\n",
       "    </tr>\n",
       "    <tr>\n",
       "      <th>4</th>\n",
       "      <td>-1.260471</td>\n",
       "      <td>-0.391371</td>\n",
       "      <td>-1.102970</td>\n",
       "      <td>0.892615</td>\n",
       "    </tr>\n",
       "    <tr>\n",
       "      <th>5</th>\n",
       "      <td>-0.293455</td>\n",
       "      <td>-2.619387</td>\n",
       "      <td>-0.340691</td>\n",
       "      <td>0.354800</td>\n",
       "    </tr>\n",
       "    <tr>\n",
       "      <th>6</th>\n",
       "      <td>-0.608594</td>\n",
       "      <td>-0.317315</td>\n",
       "      <td>0.322368</td>\n",
       "      <td>1.166291</td>\n",
       "    </tr>\n",
       "    <tr>\n",
       "      <th>7</th>\n",
       "      <td>0.097130</td>\n",
       "      <td>-0.504197</td>\n",
       "      <td>-0.346931</td>\n",
       "      <td>0.345410</td>\n",
       "    </tr>\n",
       "    <tr>\n",
       "      <th>8</th>\n",
       "      <td>-1.080867</td>\n",
       "      <td>-0.014594</td>\n",
       "      <td>0.068876</td>\n",
       "      <td>-2.004689</td>\n",
       "    </tr>\n",
       "    <tr>\n",
       "      <th>9</th>\n",
       "      <td>1.433727</td>\n",
       "      <td>0.892993</td>\n",
       "      <td>-0.212053</td>\n",
       "      <td>-0.481848</td>\n",
       "    </tr>\n",
       "  </tbody>\n",
       "</table>\n",
       "</div>"
      ],
      "text/plain": [
       "          0         1         2         3\n",
       "0 -0.876025 -0.317222  1.044329 -0.032868\n",
       "1  0.199071  0.610536  0.465883 -1.019436\n",
       "2  0.766306  1.387282 -0.058706  1.210806\n",
       "3 -0.657589  1.449401 -0.922864 -1.281216\n",
       "4 -1.260471 -0.391371 -1.102970  0.892615\n",
       "5 -0.293455 -2.619387 -0.340691  0.354800\n",
       "6 -0.608594 -0.317315  0.322368  1.166291\n",
       "7  0.097130 -0.504197 -0.346931  0.345410\n",
       "8 -1.080867 -0.014594  0.068876 -2.004689\n",
       "9  1.433727  0.892993 -0.212053 -0.481848"
      ]
     },
     "execution_count": 144,
     "metadata": {},
     "output_type": "execute_result"
    }
   ],
   "source": [
    "df = pd.DataFrame(np.random.randn(10,4))\n",
    "df"
   ]
  },
  {
   "cell_type": "code",
   "execution_count": 152,
   "metadata": {},
   "outputs": [
    {
     "data": {
      "text/plain": [
       "[          0         1         2         3\n",
       " 0 -0.876025 -0.317222  1.044329 -0.032868\n",
       " 1  0.199071  0.610536  0.465883 -1.019436\n",
       " 2  0.766306  1.387282 -0.058706  1.210806,\n",
       "           0         1         2         3\n",
       " 4 -1.260471 -0.391371 -1.102970  0.892615\n",
       " 5 -0.293455 -2.619387 -0.340691  0.354800\n",
       " 6 -0.608594 -0.317315  0.322368  1.166291]"
      ]
     },
     "execution_count": 152,
     "metadata": {},
     "output_type": "execute_result"
    }
   ],
   "source": [
    "pieces = [df[:3],df[4:7]]\n",
    "pieces"
   ]
  },
  {
   "cell_type": "code",
   "execution_count": 153,
   "metadata": {},
   "outputs": [
    {
     "data": {
      "text/html": [
       "<div>\n",
       "<style scoped>\n",
       "    .dataframe tbody tr th:only-of-type {\n",
       "        vertical-align: middle;\n",
       "    }\n",
       "\n",
       "    .dataframe tbody tr th {\n",
       "        vertical-align: top;\n",
       "    }\n",
       "\n",
       "    .dataframe thead th {\n",
       "        text-align: right;\n",
       "    }\n",
       "</style>\n",
       "<table border=\"1\" class=\"dataframe\">\n",
       "  <thead>\n",
       "    <tr style=\"text-align: right;\">\n",
       "      <th></th>\n",
       "      <th>0</th>\n",
       "      <th>1</th>\n",
       "      <th>2</th>\n",
       "      <th>3</th>\n",
       "    </tr>\n",
       "  </thead>\n",
       "  <tbody>\n",
       "    <tr>\n",
       "      <th>0</th>\n",
       "      <td>-0.876025</td>\n",
       "      <td>-0.317222</td>\n",
       "      <td>1.044329</td>\n",
       "      <td>-0.032868</td>\n",
       "    </tr>\n",
       "    <tr>\n",
       "      <th>1</th>\n",
       "      <td>0.199071</td>\n",
       "      <td>0.610536</td>\n",
       "      <td>0.465883</td>\n",
       "      <td>-1.019436</td>\n",
       "    </tr>\n",
       "    <tr>\n",
       "      <th>2</th>\n",
       "      <td>0.766306</td>\n",
       "      <td>1.387282</td>\n",
       "      <td>-0.058706</td>\n",
       "      <td>1.210806</td>\n",
       "    </tr>\n",
       "    <tr>\n",
       "      <th>4</th>\n",
       "      <td>-1.260471</td>\n",
       "      <td>-0.391371</td>\n",
       "      <td>-1.102970</td>\n",
       "      <td>0.892615</td>\n",
       "    </tr>\n",
       "    <tr>\n",
       "      <th>5</th>\n",
       "      <td>-0.293455</td>\n",
       "      <td>-2.619387</td>\n",
       "      <td>-0.340691</td>\n",
       "      <td>0.354800</td>\n",
       "    </tr>\n",
       "    <tr>\n",
       "      <th>6</th>\n",
       "      <td>-0.608594</td>\n",
       "      <td>-0.317315</td>\n",
       "      <td>0.322368</td>\n",
       "      <td>1.166291</td>\n",
       "    </tr>\n",
       "  </tbody>\n",
       "</table>\n",
       "</div>"
      ],
      "text/plain": [
       "          0         1         2         3\n",
       "0 -0.876025 -0.317222  1.044329 -0.032868\n",
       "1  0.199071  0.610536  0.465883 -1.019436\n",
       "2  0.766306  1.387282 -0.058706  1.210806\n",
       "4 -1.260471 -0.391371 -1.102970  0.892615\n",
       "5 -0.293455 -2.619387 -0.340691  0.354800\n",
       "6 -0.608594 -0.317315  0.322368  1.166291"
      ]
     },
     "execution_count": 153,
     "metadata": {},
     "output_type": "execute_result"
    }
   ],
   "source": [
    "pd.concat(pieces)"
   ]
  },
  {
   "cell_type": "markdown",
   "metadata": {},
   "source": [
    "# Pivot table"
   ]
  },
  {
   "cell_type": "code",
   "execution_count": null,
   "metadata": {},
   "outputs": [],
   "source": []
  }
 ],
 "metadata": {
  "kernelspec": {
   "display_name": "Python 3",
   "language": "python",
   "name": "python3"
  },
  "language_info": {
   "codemirror_mode": {
    "name": "ipython",
    "version": 3
   },
   "file_extension": ".py",
   "mimetype": "text/x-python",
   "name": "python",
   "nbconvert_exporter": "python",
   "pygments_lexer": "ipython3",
   "version": "3.7.6"
  }
 },
 "nbformat": 4,
 "nbformat_minor": 4
}
